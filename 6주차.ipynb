{
  "nbformat": 4,
  "nbformat_minor": 0,
  "metadata": {
    "colab": {
      "provenance": [],
      "authorship_tag": "ABX9TyN5K4Ba8xFSJnHde4UC5vke",
      "include_colab_link": true
    },
    "kernelspec": {
      "name": "python3",
      "display_name": "Python 3"
    },
    "language_info": {
      "name": "python"
    }
  },
  "cells": [
    {
      "cell_type": "markdown",
      "metadata": {
        "id": "view-in-github",
        "colab_type": "text"
      },
      "source": [
        "<a href=\"https://colab.research.google.com/github/Hyuncastl/MACHINE_LEARNING/blob/main/6%EC%A3%BC%EC%B0%A8.ipynb\" target=\"_parent\"><img src=\"https://colab.research.google.com/assets/colab-badge.svg\" alt=\"Open In Colab\"/></a>"
      ]
    },
    {
      "cell_type": "code",
      "execution_count": 116,
      "metadata": {
        "id": "XcwpO8l5WVPP"
      },
      "outputs": [],
      "source": [
        "import tensorflow as tf\n",
        "import numpy as np\n",
        "import matplotlib.pyplot as plt"
      ]
    },
    {
      "cell_type": "code",
      "source": [
        "g= tf.random.Generator.from_seed(2020)\n",
        "x = g.normal(shape=(10,))\n",
        "y=3*x-2"
      ],
      "metadata": {
        "id": "VYoPy5cZfUN4"
      },
      "execution_count": 115,
      "outputs": []
    },
    {
      "cell_type": "code",
      "source": [
        "## loss함수 정의하기\n",
        "def cal_mse(x,y,a,b):\n",
        "    y_pred = a*x1 + b\n",
        "    squared_error = (y_pred - y) **2\n",
        "    mean_squared_error = tf.reduce_mean(squared_error)\n",
        "\n",
        "    return mean_squared_error"
      ],
      "metadata": {
        "id": "xhtc57KnW57N"
      },
      "execution_count": 114,
      "outputs": []
    },
    {
      "cell_type": "code",
      "source": [
        "g = tf.random.Generator. from_seed(2020)\n",
        "x1 = g.normal(shape = (10,))\n",
        "noise = np.random.normal(0,1,size = (10,))\n",
        "y1= 3*x1-2 + noise"
      ],
      "metadata": {
        "id": "bc_AhdKqWxjq"
      },
      "execution_count": 113,
      "outputs": []
    },
    {
      "cell_type": "code",
      "source": [
        "a= tf.Variable(0.0)\n",
        "b= tf.Variable(0.0)\n",
        "\n",
        "EPOCHS = 300\n",
        "mse_1 = 0.0\n",
        "\n",
        "for epoch in range (1, EPOCHS+1):\n",
        "    with tf.GradientTape()as tape:\n",
        "      mse = cal_mse(x1,y,a,b)\n",
        "    if abs(mse - mse_1) < 0.000001:\n",
        "      break\n",
        "      \n",
        "\n",
        "    grade = tape.gradient(mse,{'a':a,'b' :b})\n",
        "    d_a,d_b = grade['a'],grade['b']\n",
        "    a.assign_sub(d_a*0.05)  \n",
        "    b.assign_sub(d_a*0.05) \n",
        "    mse_1 = mse\n",
        "    if epoch %10 == 0:\n",
        "      print(\"EPOCH %d - MSE : %.4f - a: %.2f - b : %.2f\"%(epoch,mse,a,b))"
      ],
      "metadata": {
        "colab": {
          "base_uri": "https://localhost:8080/"
        },
        "id": "eNk5BM3TXEmm",
        "outputId": "1c9fbadd-4499-4bc1-c3b2-48efac2e4f50"
      },
      "execution_count": 118,
      "outputs": [
        {
          "output_type": "stream",
          "name": "stdout",
          "text": [
            "EPOCH 10 - MSE : 4.5469 - a: 0.85 - b : 0.85\n",
            "EPOCH 20 - MSE : 4.9703 - a: 0.99 - b : 0.99\n",
            "EPOCH 30 - MSE : 5.0529 - a: 1.01 - b : 1.01\n",
            "EPOCH 40 - MSE : 5.0663 - a: 1.01 - b : 1.01\n",
            "EPOCH 50 - MSE : 5.0684 - a: 1.01 - b : 1.01\n",
            "EPOCH 60 - MSE : 5.0688 - a: 1.01 - b : 1.01\n",
            "EPOCH 70 - MSE : 5.0688 - a: 1.01 - b : 1.01\n"
          ]
        }
      ]
    },
    {
      "cell_type": "code",
      "source": [
        "y_pred = 1.01*x1-1.01\n",
        "plt.scatter(x1,y1)\n",
        "plt.plot(x1,y_pred,color = 'r')\n",
        "plt.show()"
      ],
      "metadata": {
        "colab": {
          "base_uri": "https://localhost:8080/",
          "height": 434
        },
        "id": "TTvEVKFQYJi_",
        "outputId": "f1cf919f-a38d-402c-bb9f-af8501dd3788"
      },
      "execution_count": 120,
      "outputs": [
        {
          "output_type": "display_data",
          "data": {
            "text/plain": [
              "<Figure size 640x480 with 1 Axes>"
            ],
            "image/png": "[encoded data removed]"
          },
          "metadata": {}
        }
      ]
    }
  ]
}