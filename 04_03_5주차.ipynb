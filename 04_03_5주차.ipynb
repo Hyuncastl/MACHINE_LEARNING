{
  "nbformat": 4,
  "nbformat_minor": 0,
  "metadata": {
    "colab": {
      "provenance": [],
      "authorship_tag": "ABX9TyNQfMciOGAVKpK//EI3bpgG",
      "include_colab_link": true
    },
    "kernelspec": {
      "name": "python3",
      "display_name": "Python 3"
    },
    "language_info": {
      "name": "python"
    }
  },
  "cells": [
    {
      "cell_type": "markdown",
      "metadata": {
        "id": "view-in-github",
        "colab_type": "text"
      },
      "source": [
        "<a href=\"https://colab.research.google.com/github/Hyuncastl/MACHINE_LEARNING/blob/main/04_03_5%EC%A3%BC%EC%B0%A8.ipynb\" target=\"_parent\"><img src=\"https://colab.research.google.com/assets/colab-badge.svg\" alt=\"Open In Colab\"/></a>"
      ]
    },
    {
      "cell_type": "markdown",
      "source": [
        "5주 ch2 tensor flow\n",
        "6주 ch3 단순선형회귀\n",
        "7주 ch3 mnist\n",
        "8주 ch4 CNN\n",
        "9주 ch5 RNN\n",
        "10주 ch5 LSTM"
      ],
      "metadata": {
        "id": "_W1a3mEOfqHx"
      }
    },
    {
      "cell_type": "code",
      "source": [
        "import tensorflow as tf\n",
        "import numpy as np\n",
        "import matplotlib.pyplot as plt\n"
      ],
      "metadata": {
        "id": "DBushvb5fHJh"
      },
      "execution_count": 2,
      "outputs": []
    },
    {
      "cell_type": "code",
      "source": [
        "a=1\n",
        "b=2\n",
        "c = tf.math.add(a,b)\n",
        "c"
      ],
      "metadata": {
        "colab": {
          "base_uri": "https://localhost:8080/"
        },
        "id": "flUNZ727fF2N",
        "outputId": "508ea874-19be-497a-ff84-c83c88798550"
      },
      "execution_count": 3,
      "outputs": [
        {
          "output_type": "execute_result",
          "data": {
            "text/plain": [
              "<tf.Tensor: shape=(), dtype=int32, numpy=3>"
            ]
          },
          "metadata": {},
          "execution_count": 3
        }
      ]
    },
    {
      "cell_type": "code",
      "source": [
        "c.numpy()"
      ],
      "metadata": {
        "colab": {
          "base_uri": "https://localhost:8080/"
        },
        "id": "ERaJjE9WfmlF",
        "outputId": "9b513e18-e039-4bdf-c39a-e0b034588f17"
      },
      "execution_count": 4,
      "outputs": [
        {
          "output_type": "execute_result",
          "data": {
            "text/plain": [
              "3"
            ]
          },
          "metadata": {},
          "execution_count": 4
        }
      ]
    },
    {
      "cell_type": "code",
      "source": [
        "c1 = tf.constant(1)\n",
        "c2 = tf.constant(2)\n",
        "print(c1,c2)"
      ],
      "metadata": {
        "colab": {
          "base_uri": "https://localhost:8080/"
        },
        "id": "YhP1bYwkgQE1",
        "outputId": "2c019a1b-e93e-4586-868f-12dc77d030d5"
      },
      "execution_count": 5,
      "outputs": [
        {
          "output_type": "stream",
          "name": "stdout",
          "text": [
            "tf.Tensor(1, shape=(), dtype=int32) tf.Tensor(2, shape=(), dtype=int32)\n"
          ]
        }
      ]
    },
    {
      "cell_type": "code",
      "source": [
        "f1 = tf.cast(c1,tf.float32)\n",
        "f2 = tf.cast(c2,tf.float32)\n",
        "print(f1,f2)"
      ],
      "metadata": {
        "colab": {
          "base_uri": "https://localhost:8080/"
        },
        "id": "nvPUWSjPgW-r",
        "outputId": "41b9819e-12a0-4efa-f871-53aa0f0ab428"
      },
      "execution_count": 6,
      "outputs": [
        {
          "output_type": "stream",
          "name": "stdout",
          "text": [
            "tf.Tensor(1.0, shape=(), dtype=float32) tf.Tensor(2.0, shape=(), dtype=float32)\n"
          ]
        }
      ]
    },
    {
      "cell_type": "code",
      "source": [
        "##덧셈\n",
        "add = tf.math.add(c1,c2)\n",
        "print(add)\n",
        "## 뺄셈\n",
        "sub = tf.math.subtract(c1,c2)\n",
        "print(sub)\n",
        "##곱셈\n",
        "multiply =  tf.math.multiply(c1,c2)\n",
        "print(multiply)\n",
        "##나눗셈\n",
        "div = tf.math.divide(c1,c2)\n",
        "print(div)\n",
        "##나머지\n",
        "mod = tf.math.mod(c1,c2)\n",
        "print(mod)\n",
        "##몫\n",
        "floordiv = tf.math.floordiv(c1,c2)\n",
        "print(floordiv)"
      ],
      "metadata": {
        "colab": {
          "base_uri": "https://localhost:8080/"
        },
        "id": "DWpHE-V3g9_x",
        "outputId": "d484b99e-5bc5-41de-c72d-93984a51f4b0"
      },
      "execution_count": 7,
      "outputs": [
        {
          "output_type": "stream",
          "name": "stdout",
          "text": [
            "tf.Tensor(3, shape=(), dtype=int32)\n",
            "tf.Tensor(-1, shape=(), dtype=int32)\n",
            "tf.Tensor(2, shape=(), dtype=int32)\n",
            "tf.Tensor(0.5, shape=(), dtype=float64)\n",
            "tf.Tensor(1, shape=(), dtype=int32)\n",
            "tf.Tensor(0, shape=(), dtype=int32)\n"
          ]
        }
      ]
    },
    {
      "cell_type": "code",
      "source": [
        "py_list = [10,20,30]\n",
        "ten_list = tf.constant(py_list,dtype = tf.int32)\n",
        "ten_list"
      ],
      "metadata": {
        "colab": {
          "base_uri": "https://localhost:8080/"
        },
        "id": "W4_8Xgp5g-5J",
        "outputId": "d62617ce-8e1d-4139-d436-635c10723df3"
      },
      "execution_count": 8,
      "outputs": [
        {
          "output_type": "execute_result",
          "data": {
            "text/plain": [
              "<tf.Tensor: shape=(3,), dtype=int32, numpy=array([10, 20, 30], dtype=int32)>"
            ]
          },
          "metadata": {},
          "execution_count": 8
        }
      ]
    },
    {
      "cell_type": "code",
      "source": [
        "ten_list = tf.constant([10,20,30])\n",
        "ten_list"
      ],
      "metadata": {
        "colab": {
          "base_uri": "https://localhost:8080/"
        },
        "id": "LKi2qcwZhHCB",
        "outputId": "be516d64-708e-4da8-d272-7661f995985b"
      },
      "execution_count": 9,
      "outputs": [
        {
          "output_type": "execute_result",
          "data": {
            "text/plain": [
              "<tf.Tensor: shape=(3,), dtype=int32, numpy=array([10, 20, 30], dtype=int32)>"
            ]
          },
          "metadata": {},
          "execution_count": 9
        }
      ]
    },
    {
      "cell_type": "code",
      "source": [
        "num_arr = np.array([10,10,10])\n",
        "ten_arr = tf.constant(num_arr,dtype = tf.int32)\n",
        "ten_arr"
      ],
      "metadata": {
        "colab": {
          "base_uri": "https://localhost:8080/"
        },
        "id": "PRReTb42hObA",
        "outputId": "eb6ff4f3-8b71-4edb-e818-7c1be4557932"
      },
      "execution_count": 10,
      "outputs": [
        {
          "output_type": "execute_result",
          "data": {
            "text/plain": [
              "<tf.Tensor: shape=(3,), dtype=int32, numpy=array([10, 10, 10], dtype=int32)>"
            ]
          },
          "metadata": {},
          "execution_count": 10
        }
      ]
    },
    {
      "cell_type": "code",
      "source": [
        "add_n=tf.math.add(ten_list,num_arr)\n",
        "add_n"
      ],
      "metadata": {
        "colab": {
          "base_uri": "https://localhost:8080/"
        },
        "id": "DdriD66EhXhB",
        "outputId": "c598d0a6-4882-4528-8925-0cc375b62351"
      },
      "execution_count": 11,
      "outputs": [
        {
          "output_type": "execute_result",
          "data": {
            "text/plain": [
              "<tf.Tensor: shape=(3,), dtype=int32, numpy=array([20, 30, 40], dtype=int32)>"
            ]
          },
          "metadata": {},
          "execution_count": 11
        }
      ]
    },
    {
      "cell_type": "code",
      "source": [
        "A = ten_list + ten_arr\n",
        "S = ten_list - ten_arr\n",
        "M = ten_list * ten_arr\n",
        "D = ten_list / ten_arr\n",
        "MO = ten_list % ten_arr\n",
        "FD = ten_list // ten_arr"
      ],
      "metadata": {
        "id": "NHbgrzgBhjDZ"
      },
      "execution_count": 12,
      "outputs": []
    },
    {
      "cell_type": "code",
      "source": [
        "A.numpy()"
      ],
      "metadata": {
        "colab": {
          "base_uri": "https://localhost:8080/"
        },
        "id": "ZA7JtuGqh1Mz",
        "outputId": "696e3835-5165-442e-c701-6c8ae9ef095e"
      },
      "execution_count": 13,
      "outputs": [
        {
          "output_type": "execute_result",
          "data": {
            "text/plain": [
              "array([20, 30, 40], dtype=int32)"
            ]
          },
          "metadata": {},
          "execution_count": 13
        }
      ]
    },
    {
      "cell_type": "code",
      "source": [
        "S.numpy()"
      ],
      "metadata": {
        "id": "3zom7vCykyxy",
        "colab": {
          "base_uri": "https://localhost:8080/"
        },
        "outputId": "b0e41b8b-f524-49f7-a657-78552059cc3b"
      },
      "execution_count": 14,
      "outputs": [
        {
          "output_type": "execute_result",
          "data": {
            "text/plain": [
              "array([ 0, 10, 20], dtype=int32)"
            ]
          },
          "metadata": {},
          "execution_count": 14
        }
      ]
    },
    {
      "cell_type": "code",
      "source": [
        "M.numpy()"
      ],
      "metadata": {
        "id": "sY_5FCaKk0Qa",
        "colab": {
          "base_uri": "https://localhost:8080/"
        },
        "outputId": "33078ccc-0c3e-4644-e4c5-da992b5e0034"
      },
      "execution_count": 15,
      "outputs": [
        {
          "output_type": "execute_result",
          "data": {
            "text/plain": [
              "array([100, 200, 300], dtype=int32)"
            ]
          },
          "metadata": {},
          "execution_count": 15
        }
      ]
    },
    {
      "cell_type": "code",
      "source": [
        "D.numpy()"
      ],
      "metadata": {
        "id": "HFeYlOZik1uR",
        "colab": {
          "base_uri": "https://localhost:8080/"
        },
        "outputId": "af2801ae-38e4-40e1-942e-3d96f58376de"
      },
      "execution_count": 17,
      "outputs": [
        {
          "output_type": "execute_result",
          "data": {
            "text/plain": [
              "array([1., 2., 3.])"
            ]
          },
          "metadata": {},
          "execution_count": 17
        }
      ]
    },
    {
      "cell_type": "code",
      "source": [
        "MO.numpy()"
      ],
      "metadata": {
        "id": "xhmvpgAYk3MS",
        "colab": {
          "base_uri": "https://localhost:8080/"
        },
        "outputId": "583f0cea-0c4e-49d8-94d8-f4b8fdc2e198"
      },
      "execution_count": 18,
      "outputs": [
        {
          "output_type": "execute_result",
          "data": {
            "text/plain": [
              "array([0, 0, 0], dtype=int32)"
            ]
          },
          "metadata": {},
          "execution_count": 18
        }
      ]
    },
    {
      "cell_type": "code",
      "source": [
        "FD.numpy()"
      ],
      "metadata": {
        "id": "TYHUvn5fk4Lr",
        "colab": {
          "base_uri": "https://localhost:8080/"
        },
        "outputId": "8a582df0-7faa-4c6d-f8cd-b2329d100af4"
      },
      "execution_count": 19,
      "outputs": [
        {
          "output_type": "execute_result",
          "data": {
            "text/plain": [
              "array([1, 2, 3], dtype=int32)"
            ]
          },
          "metadata": {},
          "execution_count": 19
        }
      ]
    },
    {
      "cell_type": "code",
      "source": [
        "l_a = [1,0]\n",
        "l_b = [-1,2]\n",
        "l_c = [1,0]"
      ],
      "metadata": {
        "id": "vbvuzpiqlDP6"
      },
      "execution_count": 20,
      "outputs": []
    },
    {
      "cell_type": "code",
      "source": [
        "l_a = tf.constant(l_a)\n",
        "l_b = tf.constant(l_b)\n",
        "l_c = tf.constant(l_c)\n",
        "A = tf.stack([l_a,l_b,l_c])\n",
        "A"
      ],
      "metadata": {
        "colab": {
          "base_uri": "https://localhost:8080/"
        },
        "id": "-BTCOCsOlLnS",
        "outputId": "fd34b714-b729-416e-dfc5-ff4ef7cf0b43"
      },
      "execution_count": 21,
      "outputs": [
        {
          "output_type": "execute_result",
          "data": {
            "text/plain": [
              "<tf.Tensor: shape=(3, 2), dtype=int32, numpy=\n",
              "array([[ 1,  0],\n",
              "       [-1,  2],\n",
              "       [ 1,  0]], dtype=int32)>"
            ]
          },
          "metadata": {},
          "execution_count": 21
        }
      ]
    },
    {
      "cell_type": "code",
      "source": [
        "l_B=[[10,20],[30,40]]\n",
        "l_C=[[10,20],[20,40]]\n",
        "l_E=[[30,10],[10,10]]"
      ],
      "metadata": {
        "id": "fUmejn8-loGk"
      },
      "execution_count": 22,
      "outputs": []
    },
    {
      "cell_type": "code",
      "source": [
        "B = tf.constant(l_B)\n",
        "C = tf.constant(l_C)\n",
        "E = tf.constant(l_E)\n",
        "B,C,E"
      ],
      "metadata": {
        "colab": {
          "base_uri": "https://localhost:8080/"
        },
        "id": "3c4QfhbTloZ5",
        "outputId": "5b663656-7caa-45e0-d184-b74471cd8f54"
      },
      "execution_count": 23,
      "outputs": [
        {
          "output_type": "execute_result",
          "data": {
            "text/plain": [
              "(<tf.Tensor: shape=(2, 2), dtype=int32, numpy=\n",
              " array([[10, 20],\n",
              "        [30, 40]], dtype=int32)>,\n",
              " <tf.Tensor: shape=(2, 2), dtype=int32, numpy=\n",
              " array([[10, 20],\n",
              "        [20, 40]], dtype=int32)>,\n",
              " <tf.Tensor: shape=(2, 2), dtype=int32, numpy=\n",
              " array([[30, 10],\n",
              "        [10, 10]], dtype=int32)>)"
            ]
          },
          "metadata": {},
          "execution_count": 23
        }
      ]
    },
    {
      "cell_type": "code",
      "source": [
        "m_BCE = tf.stack([B,C,E])\n",
        "m_BCE"
      ],
      "metadata": {
        "colab": {
          "base_uri": "https://localhost:8080/"
        },
        "id": "RxdxEV8FlrxB",
        "outputId": "75b692a0-62d5-4021-8912-74b86dea5aa3"
      },
      "execution_count": 24,
      "outputs": [
        {
          "output_type": "execute_result",
          "data": {
            "text/plain": [
              "<tf.Tensor: shape=(3, 2, 2), dtype=int32, numpy=\n",
              "array([[[10, 20],\n",
              "        [30, 40]],\n",
              "\n",
              "       [[10, 20],\n",
              "        [20, 40]],\n",
              "\n",
              "       [[30, 10],\n",
              "        [10, 10]]], dtype=int32)>"
            ]
          },
          "metadata": {},
          "execution_count": 24
        }
      ]
    },
    {
      "cell_type": "markdown",
      "source": [
        "고차원 텐서\n",
        "\n",
        "1. 1차원 배열 1Xm,n개 정의 2차원 배열 n X m정의\n",
        "2.tf.constant([1],[2],,,[i]):텐서 변환\n",
        "3.tf.stack([1],[2],,,[i])\n",
        "4.shape(l,n,m)"
      ],
      "metadata": {
        "id": "QF4oazvnqvY7"
      }
    },
    {
      "cell_type": "code",
      "source": [
        "l_c1 = [1,2,3,4]\n",
        "l_c2 = [3,4,2,5]\n",
        "l_c3 = [2,3,4,5]\n",
        "l_c4 = [6,5,7,3]\n",
        "l_c5 = [1,1,1,1]\n",
        "l_c6 = [8,1,0,6]"
      ],
      "metadata": {
        "id": "F01YFhVdlqhE"
      },
      "execution_count": 25,
      "outputs": []
    },
    {
      "cell_type": "code",
      "source": [
        "c1 = tf.constant(l_c1)\n",
        "c2 = tf.constant(l_c2)\n",
        "c3 = tf.constant(l_c3)\n",
        "c4 = tf.constant(l_c4)\n",
        "c5 = tf.constant(l_c5)\n",
        "c6 = tf.constant(l_c6)"
      ],
      "metadata": {
        "id": "o3rrP512ltME"
      },
      "execution_count": 26,
      "outputs": []
    },
    {
      "cell_type": "code",
      "source": [
        "ca_stack = tf.stack([c1,c2])\n",
        "cb_stack = tf.stack([c3,c4])\n",
        "cc_stack = tf.stack([c5,c6])\n",
        "cd_stack = tf.stack([ca_stack,cb_stack,cc_stack])\n",
        "cd_stack"
      ],
      "metadata": {
        "colab": {
          "base_uri": "https://localhost:8080/"
        },
        "id": "f8tchirKluKz",
        "outputId": "2f7321c7-b0d6-4dd8-a202-af6f4d31d012"
      },
      "execution_count": 27,
      "outputs": [
        {
          "output_type": "execute_result",
          "data": {
            "text/plain": [
              "<tf.Tensor: shape=(3, 2, 4), dtype=int32, numpy=\n",
              "array([[[1, 2, 3, 4],\n",
              "        [3, 4, 2, 5]],\n",
              "\n",
              "       [[2, 3, 4, 5],\n",
              "        [6, 5, 7, 3]],\n",
              "\n",
              "       [[1, 1, 1, 1],\n",
              "        [8, 1, 0, 6]]], dtype=int32)>"
            ]
          },
          "metadata": {},
          "execution_count": 27
        }
      ]
    },
    {
      "cell_type": "code",
      "source": [
        "x = range(1,10)\n",
        "x = list(x)\n",
        "x1 = tf.constant(x)"
      ],
      "metadata": {
        "id": "fM3QId4ylqka"
      },
      "execution_count": 28,
      "outputs": []
    },
    {
      "cell_type": "code",
      "source": [
        "x1"
      ],
      "metadata": {
        "colab": {
          "base_uri": "https://localhost:8080/"
        },
        "id": "iKfU5oiwlq7v",
        "outputId": "a712508c-8e81-4f5a-ca09-1d4421627a76"
      },
      "execution_count": 29,
      "outputs": [
        {
          "output_type": "execute_result",
          "data": {
            "text/plain": [
              "<tf.Tensor: shape=(9,), dtype=int32, numpy=array([1, 2, 3, 4, 5, 6, 7, 8, 9], dtype=int32)>"
            ]
          },
          "metadata": {},
          "execution_count": 29
        }
      ]
    },
    {
      "cell_type": "code",
      "source": [
        "x1[2:4]"
      ],
      "metadata": {
        "colab": {
          "base_uri": "https://localhost:8080/"
        },
        "id": "5Vj0L4WPt3Ts",
        "outputId": "4b667e1b-0c84-4d93-e714-2e3906594788"
      },
      "execution_count": 30,
      "outputs": [
        {
          "output_type": "execute_result",
          "data": {
            "text/plain": [
              "<tf.Tensor: shape=(2,), dtype=int32, numpy=array([3, 4], dtype=int32)>"
            ]
          },
          "metadata": {},
          "execution_count": 30
        }
      ]
    },
    {
      "cell_type": "code",
      "source": [
        "## 3x3 행렬인 경우우\n",
        "x2 = tf.reshape(x1,[3,-1])\n",
        "x2"
      ],
      "metadata": {
        "colab": {
          "base_uri": "https://localhost:8080/"
        },
        "id": "1l-MdX9Qt4RF",
        "outputId": "fbd55b93-8a0d-4ced-f91f-ec1f45a3ffa8"
      },
      "execution_count": 31,
      "outputs": [
        {
          "output_type": "execute_result",
          "data": {
            "text/plain": [
              "<tf.Tensor: shape=(3, 3), dtype=int32, numpy=\n",
              "array([[1, 2, 3],\n",
              "       [4, 5, 6],\n",
              "       [7, 8, 9]], dtype=int32)>"
            ]
          },
          "metadata": {},
          "execution_count": 31
        }
      ]
    },
    {
      "cell_type": "code",
      "source": [
        "##1행 출력\n",
        "x2[:1]"
      ],
      "metadata": {
        "colab": {
          "base_uri": "https://localhost:8080/"
        },
        "id": "E2870wXSt4O8",
        "outputId": "43cbbd90-e3e1-4797-c769-29ca2e03b7c8"
      },
      "execution_count": 32,
      "outputs": [
        {
          "output_type": "execute_result",
          "data": {
            "text/plain": [
              "<tf.Tensor: shape=(1, 3), dtype=int32, numpy=array([[1, 2, 3]], dtype=int32)>"
            ]
          },
          "metadata": {},
          "execution_count": 32
        }
      ]
    },
    {
      "cell_type": "code",
      "source": [
        "##2행 출력\n",
        "x2[:2]"
      ],
      "metadata": {
        "colab": {
          "base_uri": "https://localhost:8080/"
        },
        "id": "Krbqdw7zt4Mz",
        "outputId": "98fdbc97-b44e-4a4a-d128-db6929abfbd5"
      },
      "execution_count": 33,
      "outputs": [
        {
          "output_type": "execute_result",
          "data": {
            "text/plain": [
              "<tf.Tensor: shape=(2, 3), dtype=int32, numpy=\n",
              "array([[1, 2, 3],\n",
              "       [4, 5, 6]], dtype=int32)>"
            ]
          },
          "metadata": {},
          "execution_count": 33
        }
      ]
    },
    {
      "cell_type": "code",
      "source": [
        "##1열 \n",
        "x2[:,:1]"
      ],
      "metadata": {
        "colab": {
          "base_uri": "https://localhost:8080/"
        },
        "id": "gP_i7fSXt4J0",
        "outputId": "7c39570a-2c2e-4bc8-b3d9-70a603e2605a"
      },
      "execution_count": 34,
      "outputs": [
        {
          "output_type": "execute_result",
          "data": {
            "text/plain": [
              "<tf.Tensor: shape=(3, 1), dtype=int32, numpy=\n",
              "array([[1],\n",
              "       [4],\n",
              "       [7]], dtype=int32)>"
            ]
          },
          "metadata": {},
          "execution_count": 34
        }
      ]
    },
    {
      "cell_type": "code",
      "source": [
        "x2[:2,:2]"
      ],
      "metadata": {
        "colab": {
          "base_uri": "https://localhost:8080/"
        },
        "id": "vHxvdzf7t4H0",
        "outputId": "1593bc4b-4f47-4003-a685-d7b2b3e6232e"
      },
      "execution_count": 35,
      "outputs": [
        {
          "output_type": "execute_result",
          "data": {
            "text/plain": [
              "<tf.Tensor: shape=(2, 2), dtype=int32, numpy=\n",
              "array([[1, 2],\n",
              "       [4, 5]], dtype=int32)>"
            ]
          },
          "metadata": {},
          "execution_count": 35
        }
      ]
    },
    {
      "cell_type": "code",
      "source": [
        "t7 = tf.constant(range(0,24))\n",
        "t7"
      ],
      "metadata": {
        "colab": {
          "base_uri": "https://localhost:8080/"
        },
        "id": "B_J7qJoet36U",
        "outputId": "f586d609-3acd-4f65-ad66-c7d62ee35c1b"
      },
      "execution_count": 36,
      "outputs": [
        {
          "output_type": "execute_result",
          "data": {
            "text/plain": [
              "<tf.Tensor: shape=(24,), dtype=int32, numpy=\n",
              "array([ 0,  1,  2,  3,  4,  5,  6,  7,  8,  9, 10, 11, 12, 13, 14, 15, 16,\n",
              "       17, 18, 19, 20, 21, 22, 23], dtype=int32)>"
            ]
          },
          "metadata": {},
          "execution_count": 36
        }
      ]
    },
    {
      "cell_type": "code",
      "source": [
        "r_t7 = tf.reshape(t7,[3,8])\n",
        "r_t7"
      ],
      "metadata": {
        "colab": {
          "base_uri": "https://localhost:8080/"
        },
        "id": "9TUgy6UBt3w8",
        "outputId": "b4f75d7c-5bd7-4b3d-f029-f1dde5a4e6f9"
      },
      "execution_count": 37,
      "outputs": [
        {
          "output_type": "execute_result",
          "data": {
            "text/plain": [
              "<tf.Tensor: shape=(3, 8), dtype=int32, numpy=\n",
              "array([[ 0,  1,  2,  3,  4,  5,  6,  7],\n",
              "       [ 8,  9, 10, 11, 12, 13, 14, 15],\n",
              "       [16, 17, 18, 19, 20, 21, 22, 23]], dtype=int32)>"
            ]
          },
          "metadata": {},
          "execution_count": 37
        }
      ]
    },
    {
      "cell_type": "code",
      "source": [
        "r2_t7 = tf.reshape(t7,[-1,4])\n",
        "r2_t7"
      ],
      "metadata": {
        "colab": {
          "base_uri": "https://localhost:8080/"
        },
        "id": "O6no50z0wXlc",
        "outputId": "5b60a96d-62e3-4581-a9ea-8fa26d7ab440"
      },
      "execution_count": 38,
      "outputs": [
        {
          "output_type": "execute_result",
          "data": {
            "text/plain": [
              "<tf.Tensor: shape=(6, 4), dtype=int32, numpy=\n",
              "array([[ 0,  1,  2,  3],\n",
              "       [ 4,  5,  6,  7],\n",
              "       [ 8,  9, 10, 11],\n",
              "       [12, 13, 14, 15],\n",
              "       [16, 17, 18, 19],\n",
              "       [20, 21, 22, 23]], dtype=int32)>"
            ]
          },
          "metadata": {},
          "execution_count": 38
        }
      ]
    },
    {
      "cell_type": "code",
      "source": [
        "r3_t7 = tf.reshape(r2_t7,[-1])\n",
        "r3_t7"
      ],
      "metadata": {
        "colab": {
          "base_uri": "https://localhost:8080/"
        },
        "id": "hi7M2KZrwwc8",
        "outputId": "2241746e-008b-4e83-b9c9-84fe420cf8db"
      },
      "execution_count": 39,
      "outputs": [
        {
          "output_type": "execute_result",
          "data": {
            "text/plain": [
              "<tf.Tensor: shape=(24,), dtype=int32, numpy=\n",
              "array([ 0,  1,  2,  3,  4,  5,  6,  7,  8,  9, 10, 11, 12, 13, 14, 15, 16,\n",
              "       17, 18, 19, 20, 21, 22, 23], dtype=int32)>"
            ]
          },
          "metadata": {},
          "execution_count": 39
        }
      ]
    },
    {
      "cell_type": "code",
      "source": [
        "r4_t7 = tf.reshape(r2_t7,[-1,2,4])\n",
        "r4_t7"
      ],
      "metadata": {
        "colab": {
          "base_uri": "https://localhost:8080/"
        },
        "id": "eOShqLcVw9SF",
        "outputId": "c834e093-df4e-4b75-cf6a-5c3da6eb862f"
      },
      "execution_count": 40,
      "outputs": [
        {
          "output_type": "execute_result",
          "data": {
            "text/plain": [
              "<tf.Tensor: shape=(3, 2, 4), dtype=int32, numpy=\n",
              "array([[[ 0,  1,  2,  3],\n",
              "        [ 4,  5,  6,  7]],\n",
              "\n",
              "       [[ 8,  9, 10, 11],\n",
              "        [12, 13, 14, 15]],\n",
              "\n",
              "       [[16, 17, 18, 19],\n",
              "        [20, 21, 22, 23]]], dtype=int32)>"
            ]
          },
          "metadata": {},
          "execution_count": 40
        }
      ]
    },
    {
      "cell_type": "code",
      "source": [
        "r5_t7 = tf.reshape(r2_t7,[-1,2,2,2])\n",
        "r5_t7"
      ],
      "metadata": {
        "colab": {
          "base_uri": "https://localhost:8080/"
        },
        "id": "Xp_7keIDxRq0",
        "outputId": "5a33d727-b9bb-4abf-9cd8-9cc68f07374a"
      },
      "execution_count": 41,
      "outputs": [
        {
          "output_type": "execute_result",
          "data": {
            "text/plain": [
              "<tf.Tensor: shape=(3, 2, 2, 2), dtype=int32, numpy=\n",
              "array([[[[ 0,  1],\n",
              "         [ 2,  3]],\n",
              "\n",
              "        [[ 4,  5],\n",
              "         [ 6,  7]]],\n",
              "\n",
              "\n",
              "       [[[ 8,  9],\n",
              "         [10, 11]],\n",
              "\n",
              "        [[12, 13],\n",
              "         [14, 15]]],\n",
              "\n",
              "\n",
              "       [[[16, 17],\n",
              "         [18, 19]],\n",
              "\n",
              "        [[20, 21],\n",
              "         [22, 23]]]], dtype=int32)>"
            ]
          },
          "metadata": {},
          "execution_count": 41
        }
      ]
    },
    {
      "cell_type": "markdown",
      "source": [
        "자동미분분"
      ],
      "metadata": {
        "id": "iUN27oyZxph0"
      }
    },
    {
      "cell_type": "code",
      "source": [
        "## y=x^2 의 미분값 구하기\n",
        "x = tf.Variable(2.0)\n",
        "\n",
        "with tf.GradientTape() as tape:\n",
        "    y = x ** 2\n",
        "dy_dx = tape.gradient(y,x)\n",
        "dy_dx.numpy()"
      ],
      "metadata": {
        "colab": {
          "base_uri": "https://localhost:8080/"
        },
        "id": "y_ZZhClwxSX4",
        "outputId": "761052b9-d3fa-4ab3-e425-c616a05e576a"
      },
      "execution_count": 42,
      "outputs": [
        {
          "output_type": "execute_result",
          "data": {
            "text/plain": [
              "4.0"
            ]
          },
          "metadata": {},
          "execution_count": 42
        }
      ]
    },
    {
      "cell_type": "code",
      "source": [
        "m2 = tf.constant([[]])"
      ],
      "metadata": {
        "id": "zQRxOCH_qKRY"
      },
      "execution_count": 43,
      "outputs": []
    },
    {
      "cell_type": "code",
      "source": [
        "g= tf.random.Generator.from_seed(2020)\n",
        "x = g.normal(shape=(10,))\n",
        "y=3*x-2\n",
        "x.numpy"
      ],
      "metadata": {
        "colab": {
          "base_uri": "https://localhost:8080/"
        },
        "id": "wTHONuHbxSV8",
        "outputId": "1a2da7df-a1f0-490e-a53d-ab4dd2f365fb"
      },
      "execution_count": 44,
      "outputs": [
        {
          "output_type": "execute_result",
          "data": {
            "text/plain": [
              "<bound method _EagerTensorBase.numpy of <tf.Tensor: shape=(10,), dtype=float32, numpy=\n",
              "array([-0.20943771,  1.2746525 ,  1.213214  , -0.17576952,  1.876984  ,\n",
              "        0.16379918,  1.082245  ,  0.6199966 , -0.44402212,  1.3048344 ],\n",
              "      dtype=float32)>>"
            ]
          },
          "metadata": {},
          "execution_count": 44
        }
      ]
    },
    {
      "cell_type": "code",
      "source": [
        "y.numpy"
      ],
      "metadata": {
        "colab": {
          "base_uri": "https://localhost:8080/"
        },
        "id": "oH1B-iVpxSOP",
        "outputId": "6a54905f-9c7d-43d1-e561-e428ce0c5bb4"
      },
      "execution_count": 45,
      "outputs": [
        {
          "output_type": "execute_result",
          "data": {
            "text/plain": [
              "<bound method _EagerTensorBase.numpy of <tf.Tensor: shape=(10,), dtype=float32, numpy=\n",
              "array([-2.628313  ,  1.8239574 ,  1.6396422 , -2.5273085 ,  3.630952  ,\n",
              "       -1.5086024 ,  1.2467351 , -0.14001012, -3.3320663 ,  1.9145031 ],\n",
              "      dtype=float32)>>"
            ]
          },
          "metadata": {},
          "execution_count": 45
        }
      ]
    },
    {
      "cell_type": "code",
      "source": [
        "## loss함수 정의하기\n",
        "def cal_mse(x,y,a,b):\n",
        "    y_pred = a*x + b\n",
        "    squared_error = (y_pred - y) **2\n",
        "    mean_squared_error = tf.reduce_mean(squared_error)\n",
        "\n",
        "    return mean_squared_error"
      ],
      "metadata": {
        "id": "jM5C6px3xSL8"
      },
      "execution_count": 53,
      "outputs": []
    },
    {
      "cell_type": "code",
      "source": [
        "a= tf.Variable(0.0)\n",
        "b= tf.Variable(0.0)\n",
        "\n",
        "EPOCHS = 300\n",
        "\n",
        "for epoch in range (1, EPOCHS+1):\n",
        "    with tf.GradientTape()as tape:\n",
        "      mse = cal_mse(x,y,a,b)\n",
        "    if mse < 0.000001:\n",
        "        break\n",
        "\n",
        "    grade = tape.gradient(mse,{'a':a,'b' :b})\n",
        "    d_a,d_b = grade['a'],grade['b']\n",
        "    a.assign_sub(d_a*0.05)  \n",
        "    b.assign_sub(d_a*0.05) \n",
        "    if epoch %20 == 0:\n",
        "      print(\"EPOCH %d - MSE : %.4f - a: %.2f -b : %.2f\"%(epoch,mse,a,b))"
      ],
      "metadata": {
        "id": "jNEVGSmvxSJk",
        "colab": {
          "base_uri": "https://localhost:8080/"
        },
        "outputId": "425efb64-8979-4f5e-a56c-a8e4c0bf0a09"
      },
      "execution_count": 70,
      "outputs": [
        {
          "output_type": "stream",
          "name": "stdout",
          "text": [
            "EPOCH 20 - MSE : 5.5068 - a: 0.96 -b : 0.96\n",
            "EPOCH 40 - MSE : 5.5984 - a: 0.99 -b : 0.99\n",
            "EPOCH 60 - MSE : 5.6008 - a: 0.99 -b : 0.99\n",
            "EPOCH 80 - MSE : 5.6008 - a: 0.99 -b : 0.99\n",
            "EPOCH 100 - MSE : 5.6008 - a: 0.99 -b : 0.99\n",
            "EPOCH 120 - MSE : 5.6008 - a: 0.99 -b : 0.99\n",
            "EPOCH 140 - MSE : 5.6008 - a: 0.99 -b : 0.99\n",
            "EPOCH 160 - MSE : 5.6008 - a: 0.99 -b : 0.99\n",
            "EPOCH 180 - MSE : 5.6008 - a: 0.99 -b : 0.99\n",
            "EPOCH 200 - MSE : 5.6008 - a: 0.99 -b : 0.99\n",
            "EPOCH 220 - MSE : 5.6008 - a: 0.99 -b : 0.99\n",
            "EPOCH 240 - MSE : 5.6008 - a: 0.99 -b : 0.99\n",
            "EPOCH 260 - MSE : 5.6008 - a: 0.99 -b : 0.99\n",
            "EPOCH 280 - MSE : 5.6008 - a: 0.99 -b : 0.99\n",
            "EPOCH 300 - MSE : 5.6008 - a: 0.99 -b : 0.99\n"
          ]
        }
      ]
    },
    {
      "cell_type": "code",
      "source": [
        "y_pred = 0.99* x1- 0.99\n",
        "plt.scatter(x1,y)\n",
        "plt.plot(x1,y_pred,color = 'r')\n",
        "plt.show()"
      ],
      "metadata": {
        "id": "1TaZ2P33xSF8",
        "colab": {
          "base_uri": "https://localhost:8080/",
          "height": 430
        },
        "outputId": "9e701e94-1acb-4ebd-9054-f84171f61626"
      },
      "execution_count": 77,
      "outputs": [
        {
          "output_type": "display_data",
          "data": {
            "text/plain": [
              "<Figure size 640x480 with 1 Axes>"
            ],
            "image/png": "[encoded data removed]"
          },
          "metadata": {}
        }
      ]
    },
    {
      "cell_type": "code",
      "source": [
        "##데이터 셋 생성(노이즈 첨가)"
      ],
      "metadata": {
        "id": "YsBbuLixxSB9"
      },
      "execution_count": null,
      "outputs": []
    },
    {
      "cell_type": "code",
      "source": [
        "g = tf.random.Generator. from_seed(2020)\n",
        "x1 = g.normal(shape = (10,))\n",
        "noise = np.random.normal(-abs(noise),abs(noise),size = (10,))\n",
        "y= 3* x -2+ noise"
      ],
      "metadata": {
        "id": "QY4NL7T-1ad6"
      },
      "execution_count": 82,
      "outputs": []
    },
    {
      "cell_type": "code",
      "source": [
        "a= tf.Variable(0.0)\n",
        "b= tf.Variable(0.0)\n",
        "\n",
        "HS = 1000\n",
        "\n",
        "for epoch in range (1, HS+1):\n",
        "    with tf.GradientTape()as tape:\n",
        "      mse = cal_mse(x,y,a,b)\n",
        "    if mse < 0.000001:\n",
        "        break\n",
        "\n",
        "    grade = tape.gradient(mse,{'a':a,'b' :b})\n",
        "    d_a,d_b = grade['a'],grade['b']\n",
        "    a.assign_sub(d_a*0.05)  \n",
        "    b.assign_sub(d_a*0.05) \n",
        "    if epoch %20 == 0:\n",
        "      print(\"EPOCH %d - MSE : %.4f - a: %.2f -b : %.2f\"%(epoch,mse,a,b))"
      ],
      "metadata": {
        "colab": {
          "base_uri": "https://localhost:8080/"
        },
        "id": "plIVr7yq1acJ",
        "outputId": "b655d076-3478-4833-9a5a-c119073967fb"
      },
      "execution_count": 83,
      "outputs": [
        {
          "output_type": "stream",
          "name": "stdout",
          "text": [
            "EPOCH 20 - MSE : 6.7309 - a: 0.28 -b : 0.28\n",
            "EPOCH 40 - MSE : 6.7570 - a: 0.29 -b : 0.29\n",
            "EPOCH 60 - MSE : 6.7577 - a: 0.29 -b : 0.29\n",
            "EPOCH 80 - MSE : 6.7577 - a: 0.29 -b : 0.29\n",
            "EPOCH 100 - MSE : 6.7577 - a: 0.29 -b : 0.29\n",
            "EPOCH 120 - MSE : 6.7577 - a: 0.29 -b : 0.29\n",
            "EPOCH 140 - MSE : 6.7577 - a: 0.29 -b : 0.29\n",
            "EPOCH 160 - MSE : 6.7577 - a: 0.29 -b : 0.29\n",
            "EPOCH 180 - MSE : 6.7577 - a: 0.29 -b : 0.29\n",
            "EPOCH 200 - MSE : 6.7577 - a: 0.29 -b : 0.29\n",
            "EPOCH 220 - MSE : 6.7577 - a: 0.29 -b : 0.29\n",
            "EPOCH 240 - MSE : 6.7577 - a: 0.29 -b : 0.29\n",
            "EPOCH 260 - MSE : 6.7577 - a: 0.29 -b : 0.29\n",
            "EPOCH 280 - MSE : 6.7577 - a: 0.29 -b : 0.29\n",
            "EPOCH 300 - MSE : 6.7577 - a: 0.29 -b : 0.29\n",
            "EPOCH 320 - MSE : 6.7577 - a: 0.29 -b : 0.29\n",
            "EPOCH 340 - MSE : 6.7577 - a: 0.29 -b : 0.29\n",
            "EPOCH 360 - MSE : 6.7577 - a: 0.29 -b : 0.29\n",
            "EPOCH 380 - MSE : 6.7577 - a: 0.29 -b : 0.29\n",
            "EPOCH 400 - MSE : 6.7577 - a: 0.29 -b : 0.29\n",
            "EPOCH 420 - MSE : 6.7577 - a: 0.29 -b : 0.29\n",
            "EPOCH 440 - MSE : 6.7577 - a: 0.29 -b : 0.29\n",
            "EPOCH 460 - MSE : 6.7577 - a: 0.29 -b : 0.29\n",
            "EPOCH 480 - MSE : 6.7577 - a: 0.29 -b : 0.29\n",
            "EPOCH 500 - MSE : 6.7577 - a: 0.29 -b : 0.29\n",
            "EPOCH 520 - MSE : 6.7577 - a: 0.29 -b : 0.29\n",
            "EPOCH 540 - MSE : 6.7577 - a: 0.29 -b : 0.29\n",
            "EPOCH 560 - MSE : 6.7577 - a: 0.29 -b : 0.29\n",
            "EPOCH 580 - MSE : 6.7577 - a: 0.29 -b : 0.29\n",
            "EPOCH 600 - MSE : 6.7577 - a: 0.29 -b : 0.29\n",
            "EPOCH 620 - MSE : 6.7577 - a: 0.29 -b : 0.29\n",
            "EPOCH 640 - MSE : 6.7577 - a: 0.29 -b : 0.29\n",
            "EPOCH 660 - MSE : 6.7577 - a: 0.29 -b : 0.29\n",
            "EPOCH 680 - MSE : 6.7577 - a: 0.29 -b : 0.29\n",
            "EPOCH 700 - MSE : 6.7577 - a: 0.29 -b : 0.29\n",
            "EPOCH 720 - MSE : 6.7577 - a: 0.29 -b : 0.29\n",
            "EPOCH 740 - MSE : 6.7577 - a: 0.29 -b : 0.29\n",
            "EPOCH 760 - MSE : 6.7577 - a: 0.29 -b : 0.29\n",
            "EPOCH 780 - MSE : 6.7577 - a: 0.29 -b : 0.29\n",
            "EPOCH 800 - MSE : 6.7577 - a: 0.29 -b : 0.29\n",
            "EPOCH 820 - MSE : 6.7577 - a: 0.29 -b : 0.29\n",
            "EPOCH 840 - MSE : 6.7577 - a: 0.29 -b : 0.29\n",
            "EPOCH 860 - MSE : 6.7577 - a: 0.29 -b : 0.29\n",
            "EPOCH 880 - MSE : 6.7577 - a: 0.29 -b : 0.29\n",
            "EPOCH 900 - MSE : 6.7577 - a: 0.29 -b : 0.29\n",
            "EPOCH 920 - MSE : 6.7577 - a: 0.29 -b : 0.29\n",
            "EPOCH 940 - MSE : 6.7577 - a: 0.29 -b : 0.29\n",
            "EPOCH 960 - MSE : 6.7577 - a: 0.29 -b : 0.29\n",
            "EPOCH 980 - MSE : 6.7577 - a: 0.29 -b : 0.29\n",
            "EPOCH 1000 - MSE : 6.7577 - a: 0.29 -b : 0.29\n"
          ]
        }
      ]
    },
    {
      "cell_type": "code",
      "source": [],
      "metadata": {
        "id": "3dCEwAou1aaH"
      },
      "execution_count": null,
      "outputs": []
    },
    {
      "cell_type": "code",
      "source": [],
      "metadata": {
        "id": "Kpwy2Uut1aYA"
      },
      "execution_count": null,
      "outputs": []
    },
    {
      "cell_type": "code",
      "source": [],
      "metadata": {
        "id": "4QKMuz_41aVc"
      },
      "execution_count": null,
      "outputs": []
    }
  ]
}