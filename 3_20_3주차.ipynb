{
  "nbformat": 4,
  "nbformat_minor": 0,
  "metadata": {
    "colab": {
      "provenance": [],
      "toc_visible": true,
      "authorship_tag": "ABX9TyO/VD4Pv97zj9reWb7lM9fv",
      "include_colab_link": true
    },
    "kernelspec": {
      "name": "python3",
      "display_name": "Python 3"
    },
    "language_info": {
      "name": "python"
    }
  },
  "cells": [
    {
      "cell_type": "markdown",
      "metadata": {
        "id": "view-in-github",
        "colab_type": "text"
      },
      "source": [
        "<a href=\"https://colab.research.google.com/github/Hyuncastl/MACHINE_LEARNING/blob/main/3_20_3%EC%A3%BC%EC%B0%A8.ipynb\" target=\"_parent\"><img src=\"https://colab.research.google.com/assets/colab-badge.svg\" alt=\"Open In Colab\"/></a>"
      ]
    },
    {
      "cell_type": "markdown",
      "source": [
        "## 반복문"
      ],
      "metadata": {
        "id": "o6c0gNUSXvWs"
      }
    },
    {
      "cell_type": "code",
      "source": [],
      "metadata": {
        "id": "BLnIxncIX-Pa"
      },
      "execution_count": null,
      "outputs": []
    },
    {
      "cell_type": "markdown",
      "source": [
        "for문\n",
        "EX) for i in range(10): \n",
        "      print(i)\n",
        "집합명.append() 더하기\n",
        "집합명.remove() 제외하기\n",
        "\n",
        "while문\n",
        "\n",
        "\n",
        "3주차 과제\n",
        "while, append  필요하면 break continue remove 사용\n",
        "1. 소수(약수가 1포함 자기 자신) 판단 7/2!=0 7/3!=0\n",
        "2. 입력 받은 수의 약수 찾기 \n",
        "3. 입력 받은 수의 소인수 찾기 \n",
        "4. 입력 받은 두 수의 최대공약수 찾기 LCM\n",
        "5. 입력 받은 두 수의 최소공배수 찾기 GCM\n"
      ],
      "metadata": {
        "id": "w6zt2VUkX-zT"
      }
    },
    {
      "cell_type": "code",
      "source": [
        "for i in range(10):\n",
        "  print(i)"
      ],
      "metadata": {
        "colab": {
          "base_uri": "https://localhost:8080/"
        },
        "id": "qQKxj0JDYMYb",
        "outputId": "78c3ab01-abc4-4339-95ba-456e69af0d44"
      },
      "execution_count": null,
      "outputs": [
        {
          "output_type": "stream",
          "name": "stdout",
          "text": [
            "0\n",
            "1\n",
            "2\n",
            "3\n",
            "4\n",
            "5\n",
            "6\n",
            "7\n",
            "8\n",
            "9\n"
          ]
        }
      ]
    },
    {
      "cell_type": "markdown",
      "source": [],
      "metadata": {
        "id": "ebmkTDkpapgM"
      }
    },
    {
      "cell_type": "code",
      "source": [
        "a=[]\n",
        "for i in range(1,4):\n",
        "  a.append(i)\n",
        "  print(a)\n",
        "  b=[]\n",
        "for i in range(4,7):\n",
        "  b.append(i)\n",
        "  print(b)\n",
        "  c=[]\n",
        "for i in range(3,6):\n",
        "  c.append(i)\n",
        "  print(c)"
      ],
      "metadata": {
        "colab": {
          "base_uri": "https://localhost:8080/"
        },
        "id": "35QzaKEEaT40",
        "outputId": "c50f5c55-18de-47bd-b0bc-601c5ac360c8"
      },
      "execution_count": null,
      "outputs": [
        {
          "output_type": "stream",
          "name": "stdout",
          "text": [
            "[1]\n",
            "[1, 2]\n",
            "[1, 2, 3]\n",
            "[4]\n",
            "[4, 5]\n",
            "[4, 5, 6]\n",
            "[3]\n",
            "[3, 4]\n",
            "[3, 4, 5]\n"
          ]
        }
      ]
    },
    {
      "cell_type": "code",
      "source": [
        "U1 = a+b\n",
        "U2 = a+c\n",
        "\n",
        "A= []\n",
        "for i in a:\n",
        "  if i in b:\n",
        "    A.append(i)\n",
        "print(A)\n",
        "\n",
        "A= []\n",
        "for i in a:\n",
        "  if i in c:\n",
        "    A.append(i)\n",
        "print(A)\n",
        "\n",
        "A= []\n",
        "for i in a:\n",
        "  if i not in c:\n",
        "    A.append(i)\n",
        "print(A)    \n",
        "\n"
      ],
      "metadata": {
        "colab": {
          "base_uri": "https://localhost:8080/"
        },
        "id": "QJkFdf28bNd0",
        "outputId": "a40c22a3-75f6-49b6-f86a-96dba8aa1ea7"
      },
      "execution_count": null,
      "outputs": [
        {
          "output_type": "stream",
          "name": "stdout",
          "text": [
            "[]\n",
            "[]\n",
            "[1, 2, 3]\n"
          ]
        }
      ]
    },
    {
      "cell_type": "code",
      "source": [
        "a=[1,2,3]\n",
        "b=[4,5,6]\n",
        "c=[3,4,5]\n",
        "\n",
        "o=[]\n",
        "for i in a:\n",
        "  if i  not in c:\n",
        "    o.append(i)\n",
        "print(o)\n",
        "\n",
        "o=[]\n",
        "\n",
        "for i in b:\n",
        "  if i  not in c:\n",
        "    o.append(i)\n",
        "print(o)\n",
        "\n",
        "o=[]\n",
        "\n",
        "for i in c:\n",
        "  if i  not in b:\n",
        "    o.append(i)\n",
        "print(o)"
      ],
      "metadata": {
        "colab": {
          "base_uri": "https://localhost:8080/"
        },
        "id": "kjfb97xvfT2E",
        "outputId": "c05a3766-7773-4638-9e82-d65759a88186"
      },
      "execution_count": null,
      "outputs": [
        {
          "output_type": "stream",
          "name": "stdout",
          "text": [
            "[1, 2]\n",
            "[6]\n",
            "[3]\n"
          ]
        }
      ]
    },
    {
      "cell_type": "code",
      "source": [
        "while True:\n",
        "    print(\"ID:\\n\")\n",
        "    num = input()\n",
        "    if num == \"1234\":\n",
        "        print(\"성공\\n\")\n",
        "        break\n",
        "    else:\n",
        "        print(\"실패\")\n",
        "        continue\n"
      ],
      "metadata": {
        "colab": {
          "base_uri": "https://localhost:8080/"
        },
        "id": "nXiuOMuikeUb",
        "outputId": "f2cf1585-6e4a-442c-ddbc-321f4533de2c"
      },
      "execution_count": null,
      "outputs": [
        {
          "output_type": "stream",
          "name": "stdout",
          "text": [
            "ID:\n",
            "\n",
            "1234\n",
            "성공\n",
            "\n"
          ]
        }
      ]
    },
    {
      "cell_type": "code",
      "source": [
        "x=1\n",
        "while x < 10:\n",
        "  sum = 3*x\n",
        "  print(\"{}X{}={}\".format(3,x,sum))\n",
        "  x+=1"
      ],
      "metadata": {
        "colab": {
          "base_uri": "https://localhost:8080/"
        },
        "id": "1PEFfZwvmpUL",
        "outputId": "f216107f-a538-4bec-a9ec-6cf84540f5c3"
      },
      "execution_count": null,
      "outputs": [
        {
          "output_type": "stream",
          "name": "stdout",
          "text": [
            "3X1=3\n",
            "3X2=6\n",
            "3X3=9\n",
            "3X4=12\n",
            "3X5=15\n",
            "3X6=18\n",
            "3X7=21\n",
            "3X8=24\n",
            "3X9=27\n"
          ]
        }
      ]
    },
    {
      "cell_type": "code",
      "source": [
        "import random"
      ],
      "metadata": {
        "id": "n6bb8IkfoqI8"
      },
      "execution_count": null,
      "outputs": []
    },
    {
      "cell_type": "code",
      "source": [
        "num_range = range(1,46)\n",
        "\n",
        "num_list = list(num_range)\n",
        "print(num_list)"
      ],
      "metadata": {
        "colab": {
          "base_uri": "https://localhost:8080/"
        },
        "id": "p4d5BUGQqSJy",
        "outputId": "e2348e95-9589-4814-87ab-444f07694104"
      },
      "execution_count": null,
      "outputs": [
        {
          "output_type": "stream",
          "name": "stdout",
          "text": [
            "[1, 2, 3, 4, 5, 6, 7, 8, 9, 10, 11, 12, 13, 14, 15, 16, 17, 18, 19, 20, 21, 22, 23, 24, 25, 26, 27, 28, 29, 30, 31, 32, 33, 34, 35, 36, 37, 38, 39, 40, 41, 42, 43, 44, 45]\n"
          ]
        }
      ]
    },
    {
      "cell_type": "code",
      "source": [
        "random.shuffle(num_list)\n",
        "print(num_list)"
      ],
      "metadata": {
        "colab": {
          "base_uri": "https://localhost:8080/"
        },
        "id": "ygIU1c9TrxNp",
        "outputId": "98824797-6be1-4bc6-9cab-cf8940d523ae"
      },
      "execution_count": null,
      "outputs": [
        {
          "output_type": "stream",
          "name": "stdout",
          "text": [
            "[37, 21, 16, 44, 4, 28, 40, 6, 3, 7, 19, 34, 14, 38, 29, 1, 39, 24, 5, 42, 23, 10, 31, 12, 11, 26, 15, 8, 9, 2, 30, 17, 20, 43, 22, 18, 36, 41, 25, 13, 32, 45, 33, 35, 27]\n"
          ]
        }
      ]
    },
    {
      "cell_type": "code",
      "source": [
        "A=[]\n",
        "while len(A)<6:\n",
        "  random.shuffle(num_list)\n",
        "  num_seclected = num_list[0]\n",
        "  A.append(num_seclected)\n",
        "A.sort()\n",
        "A"
      ],
      "metadata": {
        "colab": {
          "base_uri": "https://localhost:8080/"
        },
        "id": "netbvXqusGsy",
        "outputId": "18627e46-448e-467e-d356-259d25773e2e"
      },
      "execution_count": null,
      "outputs": [
        {
          "output_type": "execute_result",
          "data": {
            "text/plain": [
              "[3, 4, 16, 19, 24, 40]"
            ]
          },
          "metadata": {},
          "execution_count": 115
        }
      ]
    },
    {
      "cell_type": "code",
      "source": [
        "A=[]\n",
        "while True:\n",
        "  e = round(random.random(),3)\n",
        "  A.append(e)\n",
        "  if len(A)<5:\n",
        "    break\n",
        "print(A)"
      ],
      "metadata": {
        "colab": {
          "base_uri": "https://localhost:8080/"
        },
        "id": "xIBK-PmdtLxr",
        "outputId": "9092efe6-42e7-4d4d-aba0-dbbfe7a49b24"
      },
      "execution_count": null,
      "outputs": [
        {
          "output_type": "stream",
          "name": "stdout",
          "text": [
            "[0.314]\n"
          ]
        }
      ]
    },
    {
      "cell_type": "code",
      "source": [
        "import random\n",
        "num=0\n",
        "while num<10:\n",
        "  a = random.randrange(0,30,5)\n",
        "  num+=1\n",
        "print(a)"
      ],
      "metadata": {
        "colab": {
          "base_uri": "https://localhost:8080/"
        },
        "id": "2SzQw5LQuRkx",
        "outputId": "a976b7f3-88b8-4924-880e-d24cdef028b7"
      },
      "execution_count": null,
      "outputs": [
        {
          "output_type": "stream",
          "name": "stdout",
          "text": [
            "15\n"
          ]
        }
      ]
    },
    {
      "cell_type": "markdown",
      "source": [
        "#소수"
      ],
      "metadata": {
        "id": "gia8HPAeCZ4o"
      }
    },
    {
      "cell_type": "code",
      "source": [
        "num = int(input(\"'2'이상의 양수를 입력하시오: \"))\n",
        "prime_num = []\n",
        "prime_num2=[]\n",
        "a = True\n",
        "for i in range(2,num):\n",
        "  if(num%i == 0):\n",
        "    prime_num.append(i)\n",
        "#print(prime_num)\n",
        "\n",
        "for k in range(2,i):\n",
        "  if(i%k == 0):\n",
        "    a=False\n",
        "    break\n",
        "    if(a==True):\n",
        "      prime_num2.append(i)\n",
        "      a = True\n",
        "print(prime_num2)"
      ],
      "metadata": {
        "colab": {
          "base_uri": "https://localhost:8080/"
        },
        "id": "VYq5lnRuCbwW",
        "outputId": "58d46b3a-e8e6-4910-993b-e017a9d3fb66"
      },
      "execution_count": 39,
      "outputs": [
        {
          "output_type": "stream",
          "name": "stdout",
          "text": [
            "'2'이상의 양수를 입력하시오: 6\n",
            "[]\n"
          ]
        }
      ]
    },
    {
      "cell_type": "markdown",
      "source": [
        "#약수\n"
      ],
      "metadata": {
        "id": "bTTHFt4Y2cTc"
      }
    },
    {
      "cell_type": "code",
      "source": [
        "num = int(input(\"약수 찾는 프로그램:'2'이상의 양수를 입력하시오: \"))\n",
        "divisor = [num]\n",
        "for i in range(1,num):\n",
        "  if(num%i == 0):\n",
        "    divisor.append(i)   \n",
        "print(divisor)\n"
      ],
      "metadata": {
        "colab": {
          "base_uri": "https://localhost:8080/"
        },
        "id": "yTxv_1Zn2fwg",
        "outputId": "f369eca9-63cf-4916-8a35-f444fe15260b"
      },
      "execution_count": 44,
      "outputs": [
        {
          "output_type": "stream",
          "name": "stdout",
          "text": [
            "약수 찾는 프로그램:'2'이상의 양수를 입력하시오: 66\n",
            "[66, 1, 2, 3, 6, 11, 22, 33]\n"
          ]
        }
      ]
    },
    {
      "cell_type": "markdown",
      "source": [
        "# 소인수"
      ],
      "metadata": {
        "id": "7Ignw7iQF8ln"
      }
    },
    {
      "cell_type": "code",
      "source": [
        "num = int(input(\"양수를 입력하시오: \"))\n",
        "prime_factor = [num]\n",
        "for i in range(1,num):\n",
        "  if(num%i == 0):\n",
        "   prime_factor.append(i)\n",
        "print(prime_factor)"
      ],
      "metadata": {
        "colab": {
          "base_uri": "https://localhost:8080/"
        },
        "id": "Lzv2cOAdF-q1",
        "outputId": "ce3bb6ff-d874-4487-9ecb-3aae592cd99b"
      },
      "execution_count": 49,
      "outputs": [
        {
          "output_type": "stream",
          "name": "stdout",
          "text": [
            "양수를 입력하시오: 55\n",
            "[55, 1, 5, 11]\n"
          ]
        }
      ]
    },
    {
      "cell_type": "markdown",
      "source": [
        "# 최대공약수,최소공배수\n"
      ],
      "metadata": {
        "id": "rHIrtUUj-Hlv"
      }
    },
    {
      "cell_type": "code",
      "source": [
        "num1 = int(input(\"양수를 입력하시오: \"))\n",
        "num2 = int(input(\"양수를 입력하시오: \"))\n",
        "LCM = []\n",
        "GCM = []\n",
        "for i in range(2,num1+1):\n",
        "  if(num1%i == 0) and (num2%i == 0):\n",
        "    LCM.append(i)\n",
        "    result = i\n",
        "\n",
        "print(result)"
      ],
      "metadata": {
        "colab": {
          "base_uri": "https://localhost:8080/"
        },
        "id": "XpykIvIn-J5n",
        "outputId": "c3a0d468-74a1-4e1c-e819-4b0c242ec101"
      },
      "execution_count": 58,
      "outputs": [
        {
          "output_type": "stream",
          "name": "stdout",
          "text": [
            "양수를 입력하시오: 20\n",
            "양수를 입력하시오: 10\n",
            "10\n"
          ]
        }
      ]
    },
    {
      "cell_type": "code",
      "source": [
        "mul = num1*num2\n",
        "GCM= mul/result\n",
        "print(GCM)"
      ],
      "metadata": {
        "colab": {
          "base_uri": "https://localhost:8080/"
        },
        "id": "QdXLAgQWMACq",
        "outputId": "5ab554a5-0fa7-46d5-cc60-590227a3a27f"
      },
      "execution_count": 60,
      "outputs": [
        {
          "output_type": "stream",
          "name": "stdout",
          "text": [
            "20.0\n"
          ]
        }
      ]
    }
  ]
}