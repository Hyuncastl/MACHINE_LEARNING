{
  "nbformat": 4,
  "nbformat_minor": 0,
  "metadata": {
    "colab": {
      "provenance": [],
      "toc_visible": true,
      "authorship_tag": "ABX9TyPOxVRITkXTYV3/xz76/rrj",
      "include_colab_link": true
    },
    "kernelspec": {
      "name": "python3",
      "display_name": "Python 3"
    },
    "language_info": {
      "name": "python"
    }
  },
  "cells": [
    {
      "cell_type": "markdown",
      "metadata": {
        "id": "view-in-github",
        "colab_type": "text"
      },
      "source": [
        "<a href=\"https://colab.research.google.com/github/Hyuncastl/MACHINE_LEARNING/blob/main/2%EC%A3%BC%EC%B0%A83_13.ipynb\" target=\"_parent\"><img src=\"https://colab.research.google.com/assets/colab-badge.svg\" alt=\"Open In Colab\"/></a>"
      ]
    },
    {
      "cell_type": "markdown",
      "source": [
        "# *Data_type*"
      ],
      "metadata": {
        "id": "iO9a67SeWXop"
      }
    },
    {
      "cell_type": "code",
      "execution_count": null,
      "metadata": {
        "id": "9KqYTVCAV9kX"
      },
      "outputs": [],
      "source": [
        "a = 3\n",
        "b = 7.9\n",
        "c = \"Hello\""
      ]
    },
    {
      "cell_type": "markdown",
      "source": [
        "# 새 섹션"
      ],
      "metadata": {
        "id": "ImTBheYlbxdi"
      }
    },
    {
      "cell_type": "code",
      "source": [
        " type(a)"
      ],
      "metadata": {
        "colab": {
          "base_uri": "https://localhost:8080/"
        },
        "id": "CCvcaEimW-l6",
        "outputId": "1f2ac48e-8f1a-4315-c4ef-70bab2e46aa2"
      },
      "execution_count": 26,
      "outputs": [
        {
          "output_type": "execute_result",
          "data": {
            "text/plain": [
              "str"
            ]
          },
          "metadata": {},
          "execution_count": 26
        }
      ]
    },
    {
      "cell_type": "markdown",
      "source": [
        "입력과 출력\n",
        "input() print()\n"
      ],
      "metadata": {
        "id": "j87nG5JvWm1j"
      }
    },
    {
      "cell_type": "code",
      "source": [
        " a = input()"
      ],
      "metadata": {
        "colab": {
          "base_uri": "https://localhost:8080/"
        },
        "id": "wTD-NmcrWEyc",
        "outputId": "9a27256b-3f8d-4545-e7b7-6538b0514e83"
      },
      "execution_count": 27,
      "outputs": [
        {
          "name": "stdout",
          "output_type": "stream",
          "text": [
            "2\n"
          ]
        }
      ]
    },
    {
      "cell_type": "code",
      "source": [
        "print(\"{}\".format(a))"
      ],
      "metadata": {
        "colab": {
          "base_uri": "https://localhost:8080/"
        },
        "id": "66JUZ7v5fGc5",
        "outputId": "7bbd0ca0-f72f-48bf-a292-4fb4d65fc37e"
      },
      "execution_count": 28,
      "outputs": [
        {
          "output_type": "stream",
          "name": "stdout",
          "text": [
            "2\n"
          ]
        }
      ]
    },
    {
      "cell_type": "code",
      "source": [
        "type (a)"
      ],
      "metadata": {
        "colab": {
          "base_uri": "https://localhost:8080/"
        },
        "id": "oKLEfwBFfQvB",
        "outputId": "10104d20-2c99-4bbe-fe2d-aa8fd6ac8403"
      },
      "execution_count": 29,
      "outputs": [
        {
          "output_type": "execute_result",
          "data": {
            "text/plain": [
              "str"
            ]
          },
          "metadata": {},
          "execution_count": 29
        }
      ]
    },
    {
      "cell_type": "code",
      "source": [
        "str1 = \"Hello\""
      ],
      "metadata": {
        "id": "nFKOpUz4fUwh"
      },
      "execution_count": 30,
      "outputs": []
    },
    {
      "cell_type": "code",
      "source": [
        "str1[3]"
      ],
      "metadata": {
        "colab": {
          "base_uri": "https://localhost:8080/",
          "height": 36
        },
        "id": "NTFdOwgAfhqx",
        "outputId": "b8c9242e-e39b-4a74-aee4-912619db1174"
      },
      "execution_count": 31,
      "outputs": [
        {
          "output_type": "execute_result",
          "data": {
            "text/plain": [
              "'l'"
            ],
            "application/vnd.google.colaboratory.intrinsic+json": {
              "type": "string"
            }
          },
          "metadata": {},
          "execution_count": 31
        }
      ]
    },
    {
      "cell_type": "code",
      "source": [
        "dict1 = {\"name\":\"kim\",\"age\": \"20\"}"
      ],
      "metadata": {
        "id": "OX1At8-ggCfZ"
      },
      "execution_count": 32,
      "outputs": []
    },
    {
      "cell_type": "code",
      "source": [
        "dict1.keys()"
      ],
      "metadata": {
        "colab": {
          "base_uri": "https://localhost:8080/"
        },
        "id": "Jh4JAlqUgPsq",
        "outputId": "5172b0c4-725d-4c78-e11f-ceae00420d88"
      },
      "execution_count": 33,
      "outputs": [
        {
          "output_type": "execute_result",
          "data": {
            "text/plain": [
              "dict_keys(['name', 'age'])"
            ]
          },
          "metadata": {},
          "execution_count": 33
        }
      ]
    },
    {
      "cell_type": "code",
      "source": [
        "dict1.items()"
      ],
      "metadata": {
        "colab": {
          "base_uri": "https://localhost:8080/"
        },
        "id": "mEtmHhPigU7J",
        "outputId": "51f4d683-b48b-4e79-f4cf-0228b7cf841a"
      },
      "execution_count": 34,
      "outputs": [
        {
          "output_type": "execute_result",
          "data": {
            "text/plain": [
              "dict_items([('name', 'kim'), ('age', '20')])"
            ]
          },
          "metadata": {},
          "execution_count": 34
        }
      ]
    },
    {
      "cell_type": "code",
      "source": [
        "dict1.values()"
      ],
      "metadata": {
        "colab": {
          "base_uri": "https://localhost:8080/"
        },
        "id": "b6Qupwo0g9Uk",
        "outputId": "04466e05-fe79-4986-fa79-bd15da9d94f0"
      },
      "execution_count": 35,
      "outputs": [
        {
          "output_type": "execute_result",
          "data": {
            "text/plain": [
              "dict_values(['kim', '20'])"
            ]
          },
          "metadata": {},
          "execution_count": 35
        }
      ]
    },
    {
      "cell_type": "code",
      "source": [
        "x = 3\n",
        "y = 7\n",
        "z = 11"
      ],
      "metadata": {
        "id": "lTow_opsjCmL"
      },
      "execution_count": 36,
      "outputs": []
    },
    {
      "cell_type": "code",
      "source": [
        "div = z/x"
      ],
      "metadata": {
        "id": "ALv5FkTEjKmw"
      },
      "execution_count": 37,
      "outputs": []
    },
    {
      "cell_type": "code",
      "source": [
        "round(div,4)"
      ],
      "metadata": {
        "colab": {
          "base_uri": "https://localhost:8080/"
        },
        "id": "K1iEepnMjUlQ",
        "outputId": "bae512ba-5bf2-4b30-f533-8cce41f2b8b6"
      },
      "execution_count": 38,
      "outputs": [
        {
          "output_type": "execute_result",
          "data": {
            "text/plain": [
              "3.6667"
            ]
          },
          "metadata": {},
          "execution_count": 38
        }
      ]
    },
    {
      "cell_type": "code",
      "source": [
        "z//x"
      ],
      "metadata": {
        "colab": {
          "base_uri": "https://localhost:8080/"
        },
        "id": "S90gK9uKjyI5",
        "outputId": "619f9c8b-be78-4425-e69f-a9ff117aca56"
      },
      "execution_count": 39,
      "outputs": [
        {
          "output_type": "execute_result",
          "data": {
            "text/plain": [
              "3"
            ]
          },
          "metadata": {},
          "execution_count": 39
        }
      ]
    },
    {
      "cell_type": "code",
      "source": [
        "z%x"
      ],
      "metadata": {
        "colab": {
          "base_uri": "https://localhost:8080/"
        },
        "id": "Q8DlW6vkj0dh",
        "outputId": "ff854108-db6e-44e4-891d-a57aa4abff07"
      },
      "execution_count": 40,
      "outputs": [
        {
          "output_type": "execute_result",
          "data": {
            "text/plain": [
              "2"
            ]
          },
          "metadata": {},
          "execution_count": 40
        }
      ]
    },
    {
      "cell_type": "code",
      "source": [
        "if x<3:\n",
        "  print(\"True\")\n",
        "else:\n",
        "  print(\"False\")\n"
      ],
      "metadata": {
        "colab": {
          "base_uri": "https://localhost:8080/"
        },
        "id": "kaFce5PHkrEZ",
        "outputId": "49047d16-729a-424b-ba76-2dd1922b0fb7"
      },
      "execution_count": 41,
      "outputs": [
        {
          "output_type": "stream",
          "name": "stdout",
          "text": [
            "False\n"
          ]
        }
      ]
    },
    {
      "cell_type": "code",
      "source": [
        "x1 = int(input())"
      ],
      "metadata": {
        "colab": {
          "base_uri": "https://localhost:8080/"
        },
        "id": "9rPjMIFdmSEw",
        "outputId": "f5bb34fa-44f1-43f4-a67d-26e269311999"
      },
      "execution_count": 42,
      "outputs": [
        {
          "name": "stdout",
          "output_type": "stream",
          "text": [
            "2\n"
          ]
        }
      ]
    },
    {
      "cell_type": "code",
      "source": [
        "if x1% 2 == 0:\n",
        "  print(\"짝수{}\".format(x1))\n",
        "else:\n",
        "    print(\"홀수수{}\".format(x1))"
      ],
      "metadata": {
        "colab": {
          "base_uri": "https://localhost:8080/"
        },
        "id": "TE19Aq5Zng0q",
        "outputId": "3a736388-d3e5-438c-fe85-eb2939372b05"
      },
      "execution_count": 43,
      "outputs": [
        {
          "output_type": "stream",
          "name": "stdout",
          "text": [
            "짝수2\n"
          ]
        }
      ]
    },
    {
      "cell_type": "code",
      "source": [
        "x2 = int(input())\n",
        "if 90 <= x2 <=100 :\n",
        "  print(\"A:{}\".format(x2))\n",
        "elif 80 <= x2 < 90 :\n",
        "  print(\"B:{}\".format(x2))\n",
        "elif 70 <= x2 < 80 :\n",
        "   print(\"C:{}\".format(x2))\n",
        "elif 60 <= x2 < 70 :\n",
        "   print(\"D:{}\".format(x2))\n",
        "else :\n",
        "   print(\"F:{}\".format(x2))\n",
        "          "
      ],
      "metadata": {
        "colab": {
          "base_uri": "https://localhost:8080/"
        },
        "id": "Qbw2nJyto4UA",
        "outputId": "dd7cefec-2afd-4a36-f925-2b67fdaefc99"
      },
      "execution_count": 44,
      "outputs": [
        {
          "output_type": "stream",
          "name": "stdout",
          "text": [
            "2\n",
            "F:2\n"
          ]
        }
      ]
    },
    {
      "cell_type": "code",
      "source": [
        "pw = input()\n",
        "if pw == \"Abcd!#12\":\n",
        "  print(\"일치{}\".format(pw))\n",
        "else :\n",
        "  print(\"불일치{}\".format(pw))"
      ],
      "metadata": {
        "colab": {
          "base_uri": "https://localhost:8080/"
        },
        "id": "TAJyi5HhqvZw",
        "outputId": "6af0aefb-3f86-4cfe-d976-b0e41efda704"
      },
      "execution_count": 45,
      "outputs": [
        {
          "output_type": "stream",
          "name": "stdout",
          "text": [
            "as\n",
            "불일치as\n"
          ]
        }
      ]
    },
    {
      "cell_type": "markdown",
      "source": [
        "윤년\n"
      ],
      "metadata": {
        "id": "zDDXtZC4b0oQ"
      }
    },
    {
      "cell_type": "code",
      "source": [],
      "metadata": {
        "id": "M4zd3o8Ib28G"
      },
      "execution_count": 45,
      "outputs": []
    },
    {
      "cell_type": "markdown",
      "source": [
        "# 윤년"
      ],
      "metadata": {
        "id": "EG3VVPB1cAga"
      }
    },
    {
      "cell_type": "code",
      "source": [
        "a = int(input(\"연도를 입력하시오 : \"))\n",
        "\n",
        "if a%4 == 0:\n",
        "  if a%100 == 0:\n",
        "    if a%400 == 0:\n",
        "      print(\"{}년은 윤년입니다.\".format(a))\n",
        "    else:\n",
        "        print(\"{}년은 평년입니다.\".format(a))\n",
        "  else:\n",
        "      print(\"{}년은 윤년입니다.\".format(a))\n",
        "else:\n",
        "  print(\"{}년은 평년입니다.\".format(a))"
      ],
      "metadata": {
        "colab": {
          "base_uri": "https://localhost:8080/"
        },
        "id": "Yh6XLqtOcDX7",
        "outputId": "f6731f1c-2bfd-4871-d903-497d30045e07"
      },
      "execution_count": 6,
      "outputs": [
        {
          "output_type": "stream",
          "name": "stdout",
          "text": [
            "연도를 입력하시오 : 2000\n",
            "2000년은 윤년입니다.\n"
          ]
        }
      ]
    },
    {
      "cell_type": "markdown",
      "source": [
        "# 띠 계산"
      ],
      "metadata": {
        "id": "h0WGJ6dneIiZ"
      }
    },
    {
      "cell_type": "code",
      "source": [
        "str_input = input(\"태어난 해 입력 : \")\n",
        "year = (int(str_input))%12\n",
        "\n",
        "if year == 0:\n",
        "  print(\"원숭이 띠\")\n",
        "elif year == 1:\n",
        "  print(\"닭 띠\")\n",
        "elif year == 2:\n",
        "  print(\"개 띠\")\n",
        "elif year == 3:\n",
        "  print(\"돼지 띠\")\n",
        "elif year == 4:\n",
        "  print(\"쥐 띠\")\n",
        "elif year == 5:\n",
        "  print(\"소 띠\")\n",
        "elif year == 6:\n",
        "  print(\"호랑이 띠\")\n",
        "elif year == 7:\n",
        "  print(\"토끼 띠\")\n",
        "elif year == 8:\n",
        "  print(\"용 띠\")\n",
        "elif year == 9:\n",
        "  print(\"뱀 띠\")\n",
        "elif year == 10:\n",
        "  print(\"말 띠\")\n",
        "elif year == 11:\n",
        "  print(\"양띠\")                "
      ],
      "metadata": {
        "colab": {
          "base_uri": "https://localhost:8080/"
        },
        "id": "No2hTAGleLux",
        "outputId": "25a81d76-3b96-4e49-fb87-a8475d35761a"
      },
      "execution_count": 10,
      "outputs": [
        {
          "output_type": "stream",
          "name": "stdout",
          "text": [
            "태어난 해 입력 : 2000\n",
            "용 띠\n"
          ]
        }
      ]
    }
  ]
}