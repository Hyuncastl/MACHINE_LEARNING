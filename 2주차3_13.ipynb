{
  "nbformat": 4,
  "nbformat_minor": 0,
  "metadata": {
    "colab": {
      "provenance": [],
      "toc_visible": true,
      "authorship_tag": "ABX9TyOqbanUFj3DSTNiYZM/IU/J",
      "include_colab_link": true
    },
    "kernelspec": {
      "name": "python3",
      "display_name": "Python 3"
    },
    "language_info": {
      "name": "python"
    }
  },
  "cells": [
    {
      "cell_type": "markdown",
      "metadata": {
        "id": "view-in-github",
        "colab_type": "text"
      },
      "source": [
        "<a href=\"https://colab.research.google.com/github/Hyuncastl/MACHINE_LEARNING/blob/main/2%EC%A3%BC%EC%B0%A83_13.ipynb\" target=\"_parent\"><img src=\"https://colab.research.google.com/assets/colab-badge.svg\" alt=\"Open In Colab\"/></a>"
      ]
    },
    {
      "cell_type": "markdown",
      "source": [
        "# *Data_type*"
      ],
      "metadata": {
        "id": "iO9a67SeWXop"
      }
    },
    {
      "cell_type": "code",
      "execution_count": null,
      "metadata": {
        "id": "9KqYTVCAV9kX"
      },
      "outputs": [],
      "source": [
        "a = 3\n",
        "b = 7.9\n",
        "c = \"Hello\""
      ]
    },
    {
      "cell_type": "markdown",
      "source": [
        "# 새 섹션"
      ],
      "metadata": {
        "id": "ImTBheYlbxdi"
      }
    },
    {
      "cell_type": "code",
      "source": [
        " type(a)"
      ],
      "metadata": {
        "colab": {
          "base_uri": "https://localhost:8080/",
          "height": 176
        },
        "id": "CCvcaEimW-l6",
        "outputId": "12a10135-ba75-48c7-b6a5-aa76f100afcf"
      },
      "execution_count": 1,
      "outputs": [
        {
          "output_type": "error",
          "ename": "NameError",
          "evalue": "ignored",
          "traceback": [
            "\u001b[0;31m---------------------------------------------------------------------------\u001b[0m",
            "\u001b[0;31mNameError\u001b[0m                                 Traceback (most recent call last)",
            "\u001b[0;32m<ipython-input-1-b152ec05ccbc>\u001b[0m in \u001b[0;36m<module>\u001b[0;34m\u001b[0m\n\u001b[0;32m----> 1\u001b[0;31m \u001b[0mtype\u001b[0m\u001b[0;34m(\u001b[0m\u001b[0ma\u001b[0m\u001b[0;34m)\u001b[0m\u001b[0;34m\u001b[0m\u001b[0;34m\u001b[0m\u001b[0m\n\u001b[0m",
            "\u001b[0;31mNameError\u001b[0m: name 'a' is not defined"
          ]
        }
      ]
    },
    {
      "cell_type": "code",
      "source": [
        " type(b)"
      ],
      "metadata": {
        "id": "A8UO_cYsXBcy"
      },
      "execution_count": null,
      "outputs": []
    },
    {
      "cell_type": "markdown",
      "source": [
        "입력과 출력\n",
        "input() print()\n"
      ],
      "metadata": {
        "id": "j87nG5JvWm1j"
      }
    },
    {
      "cell_type": "code",
      "source": [
        " a = input()"
      ],
      "metadata": {
        "id": "wTD-NmcrWEyc"
      },
      "execution_count": null,
      "outputs": []
    },
    {
      "cell_type": "code",
      "source": [
        "print(\"{}\".format(a))"
      ],
      "metadata": {
        "id": "66JUZ7v5fGc5"
      },
      "execution_count": null,
      "outputs": []
    },
    {
      "cell_type": "code",
      "source": [
        "type (a)"
      ],
      "metadata": {
        "id": "oKLEfwBFfQvB"
      },
      "execution_count": null,
      "outputs": []
    },
    {
      "cell_type": "code",
      "source": [
        "str1 = \"Hello\""
      ],
      "metadata": {
        "id": "nFKOpUz4fUwh"
      },
      "execution_count": null,
      "outputs": []
    },
    {
      "cell_type": "code",
      "source": [
        "str1[3]"
      ],
      "metadata": {
        "id": "NTFdOwgAfhqx"
      },
      "execution_count": null,
      "outputs": []
    },
    {
      "cell_type": "code",
      "source": [
        "dict1 = {\"name\":\"kim\",\"age\": \"20\"}"
      ],
      "metadata": {
        "id": "OX1At8-ggCfZ"
      },
      "execution_count": null,
      "outputs": []
    },
    {
      "cell_type": "code",
      "source": [
        "dict1.keys()"
      ],
      "metadata": {
        "id": "Jh4JAlqUgPsq"
      },
      "execution_count": null,
      "outputs": []
    },
    {
      "cell_type": "code",
      "source": [
        "dict1.items()"
      ],
      "metadata": {
        "id": "mEtmHhPigU7J"
      },
      "execution_count": null,
      "outputs": []
    },
    {
      "cell_type": "code",
      "source": [
        "dict1.values()"
      ],
      "metadata": {
        "id": "b6Qupwo0g9Uk"
      },
      "execution_count": null,
      "outputs": []
    },
    {
      "cell_type": "code",
      "source": [
        "x = 3\n",
        "y = 7\n",
        "z = 11"
      ],
      "metadata": {
        "id": "lTow_opsjCmL"
      },
      "execution_count": null,
      "outputs": []
    },
    {
      "cell_type": "code",
      "source": [
        "div = z/x"
      ],
      "metadata": {
        "id": "ALv5FkTEjKmw"
      },
      "execution_count": null,
      "outputs": []
    },
    {
      "cell_type": "code",
      "source": [
        "round(div,4)"
      ],
      "metadata": {
        "id": "K1iEepnMjUlQ"
      },
      "execution_count": null,
      "outputs": []
    },
    {
      "cell_type": "code",
      "source": [
        "z//x"
      ],
      "metadata": {
        "id": "S90gK9uKjyI5"
      },
      "execution_count": null,
      "outputs": []
    },
    {
      "cell_type": "code",
      "source": [
        "z%x"
      ],
      "metadata": {
        "id": "Q8DlW6vkj0dh"
      },
      "execution_count": null,
      "outputs": []
    },
    {
      "cell_type": "code",
      "source": [
        "if x<3:\n",
        "  print(\"True\")\n",
        "else:\n",
        "  print(\"False\")\n"
      ],
      "metadata": {
        "id": "kaFce5PHkrEZ"
      },
      "execution_count": null,
      "outputs": []
    },
    {
      "cell_type": "code",
      "source": [
        "x1 = int(input())"
      ],
      "metadata": {
        "id": "9rPjMIFdmSEw"
      },
      "execution_count": null,
      "outputs": []
    },
    {
      "cell_type": "code",
      "source": [
        "if x1% 2 == 0:\n",
        "  print(\"짝수{}\".format(x1))\n",
        "else:\n",
        "    print(\"홀수수{}\".format(x1))"
      ],
      "metadata": {
        "id": "TE19Aq5Zng0q"
      },
      "execution_count": null,
      "outputs": []
    },
    {
      "cell_type": "code",
      "source": [
        "x2 = int(input())\n",
        "if 90 <= x2 <=100 :\n",
        "  print(\"A:{}\".format(x2))\n",
        "elif 80 <= x2 < 90 :\n",
        "  print(\"B:{}\".format(x2))\n",
        "elif 70 <= x2 < 80 :\n",
        "   print(\"C:{}\".format(x2))\n",
        "elif 60 <= x2 < 70 :\n",
        "   print(\"D:{}\".format(x2))\n",
        "else :\n",
        "   print(\"F:{}\".format(x2))\n",
        "          "
      ],
      "metadata": {
        "id": "Qbw2nJyto4UA"
      },
      "execution_count": null,
      "outputs": []
    },
    {
      "cell_type": "code",
      "source": [
        "pw = input()\n",
        "if pw == \"Abcd!#12\":\n",
        "  print(\"일치{}\".format(pw))\n",
        "else :\n",
        "  print(\"불일치{}\".format(pw))"
      ],
      "metadata": {
        "id": "TAJyi5HhqvZw"
      },
      "execution_count": null,
      "outputs": []
    },
    {
      "cell_type": "markdown",
      "source": [
        "윤년\n"
      ],
      "metadata": {
        "id": "zDDXtZC4b0oQ"
      }
    },
    {
      "cell_type": "code",
      "source": [],
      "metadata": {
        "id": "M4zd3o8Ib28G"
      },
      "execution_count": null,
      "outputs": []
    },
    {
      "cell_type": "markdown",
      "source": [
        "# 윤년"
      ],
      "metadata": {
        "id": "EG3VVPB1cAga"
      }
    },
    {
      "cell_type": "code",
      "source": [
        "a = int(input(\"연도를 입력하시오 : \"))\n",
        "\n",
        "if a%4 == 0:\n",
        "  if a%100 == 0:\n",
        "    if a%400 == 0:\n",
        "      print(\"{}년은 윤년입니다.\".format(a))\n",
        "    else:\n",
        "        print(\"{}년은 평년입니다.\".format(a))\n",
        "  else:\n",
        "      print(\"{}년은 윤년입니다.\".format(a))\n",
        "else:\n",
        "  print(\"{}년은 평년입니다.\".format(a))"
      ],
      "metadata": {
        "colab": {
          "base_uri": "https://localhost:8080/"
        },
        "id": "Yh6XLqtOcDX7",
        "outputId": "f6731f1c-2bfd-4871-d903-497d30045e07"
      },
      "execution_count": 6,
      "outputs": [
        {
          "output_type": "stream",
          "name": "stdout",
          "text": [
            "연도를 입력하시오 : 2000\n",
            "2000년은 윤년입니다.\n"
          ]
        }
      ]
    },
    {
      "cell_type": "markdown",
      "source": [
        "# 띠 계산"
      ],
      "metadata": {
        "id": "h0WGJ6dneIiZ"
      }
    },
    {
      "cell_type": "code",
      "source": [
        "str_input = input(\"태어난 해 입력 : \")\n",
        "year = (int(str_input))%12\n",
        "\n",
        "if year == 0:\n",
        "  print(\"원숭이 띠\")\n",
        "elif year == 1:\n",
        "  print(\"닭 띠\")\n",
        "elif year == 2:\n",
        "  print(\"개 띠\")\n",
        "elif year == 3:\n",
        "  print(\"돼지 띠\")\n",
        "elif year == 4:\n",
        "  print(\"쥐 띠\")\n",
        "elif year == 5:\n",
        "  print(\"소 띠\")\n",
        "elif year == 6:\n",
        "  print(\"호랑이 띠\")\n",
        "elif year == 7:\n",
        "  print(\"토끼 띠\")\n",
        "elif year == 8:\n",
        "  print(\"용 띠\")\n",
        "elif year == 9:\n",
        "  print(\"뱀 띠\")\n",
        "elif year == 10:\n",
        "  print(\"말 띠\")\n",
        "elif year == 11:\n",
        "  print(\"양띠\")                "
      ],
      "metadata": {
        "colab": {
          "base_uri": "https://localhost:8080/"
        },
        "id": "No2hTAGleLux",
        "outputId": "25a81d76-3b96-4e49-fb87-a8475d35761a"
      },
      "execution_count": 10,
      "outputs": [
        {
          "output_type": "stream",
          "name": "stdout",
          "text": [
            "태어난 해 입력 : 2000\n",
            "용 띠\n"
          ]
        }
      ]
    }
  ]
}