{
  "nbformat": 4,
  "nbformat_minor": 0,
  "metadata": {
    "colab": {
      "provenance": [],
      "gpuType": "T4",
      "authorship_tag": "ABX9TyMKNdTjlzzcOcaGUKggU+vA",
      "include_colab_link": true
    },
    "kernelspec": {
      "name": "python3",
      "display_name": "Python 3"
    },
    "language_info": {
      "name": "python"
    },
    "gpuClass": "standard"
  },
  "cells": [
    {
      "cell_type": "markdown",
      "metadata": {
        "id": "view-in-github",
        "colab_type": "text"
      },
      "source": [
        "<a href=\"https://colab.research.google.com/github/Hyuncastl/MACHINE_LEARNING/blob/main/12_1.ipynb\" target=\"_parent\"><img src=\"https://colab.research.google.com/assets/colab-badge.svg\" alt=\"Open In Colab\"/></a>"
      ]
    },
    {
      "cell_type": "code",
      "execution_count": 3,
      "metadata": {
        "id": "juNZngCEufPr"
      },
      "outputs": [],
      "source": [
        "import os\n",
        "import shutil\n",
        "source_file = \"/content/archive.zip\"\n",
        "\n",
        "extract_folder = \"content/\"\n",
        "\n",
        "shutil.unpack_archive(source_file, extract_folder)"
      ]
    },
    {
      "cell_type": "code",
      "source": [
        "import tensorflow as tf\n",
        "from tensorflow.keras.preprocessing.image import ImageDataGenerator\n",
        "from tensorflow.keras.callbacks import ModelCheckpoint"
      ],
      "metadata": {
        "id": "oTsw_llMulG6"
      },
      "execution_count": 4,
      "outputs": []
    },
    {
      "cell_type": "code",
      "source": [
        "trian_dir = \"/content/content/training_set/training_set\"\n",
        "vaild_dir = \"/content/content/test_set/test_set\""
      ],
      "metadata": {
        "id": "70dp5BrNulFB"
      },
      "execution_count": 5,
      "outputs": []
    },
    {
      "cell_type": "code",
      "source": [
        "image_gen_aug = ImageDataGenerator(rescale = 1/255.,\n",
        "                                   horizontal_flip = True,\n",
        "                                   rotation_range = 35,\n",
        "                                   zoom_range = 0.2\n",
        "                                  )\n",
        "train_gen = image_gen_aug.flow_from_directory(trian_dir,\n",
        "                                              batch_size = 32,\n",
        "                                              target_size = (224,224),\n",
        "                                              classes = ['cats','dogs'],\n",
        "                                              class_mode = 'binary')\n",
        "valid_gen = image_gen_aug.flow_from_directory(vaild_dir,\n",
        "                                              batch_size = 32,\n",
        "                                              target_size = (224,224),\n",
        "                                              classes = ['cats','dogs'],\n",
        "                                              class_mode = 'binary')"
      ],
      "metadata": {
        "id": "lu3-9-6LulDC",
        "colab": {
          "base_uri": "https://localhost:8080/"
        },
        "outputId": "5932892f-e5f4-4eb8-c017-32c11c7172aa"
      },
      "execution_count": 6,
      "outputs": [
        {
          "output_type": "stream",
          "name": "stdout",
          "text": [
            "Found 8005 images belonging to 2 classes.\n",
            "Found 2023 images belonging to 2 classes.\n"
          ]
        }
      ]
    },
    {
      "cell_type": "code",
      "source": [
        " def solution_model():\n",
        "    model = tf.keras.Sequential([\n",
        "        tf.keras.layers.BatchNormalization(),\n",
        "        tf.keras.layers.Conv2D(32, (3, 3), padding='same', activation='relu'),\n",
        "        tf.keras.layers.MaxPooling2D(2, 2),\n",
        "\n",
        "        tf.keras.layers.BatchNormalization(),\n",
        "        tf.keras.layers.Conv2D(64, (3, 3), padding='same', activation='relu'),\n",
        "        tf.keras.layers.MaxPooling2D(2, 2),\n",
        "\n",
        "        tf.keras.layers.BatchNormalization(),\n",
        "        tf.keras.layers.Conv2D(128, (3, 3), padding='same', activation='relu'),\n",
        "        tf.keras.layers.MaxPooling2D(2, 2),\n",
        "\n",
        "        tf.keras.layers.Flatten(),\n",
        "        tf.keras.layers.Dense(256, activation='relu'),\n",
        "        tf.keras.layers.Dropout(0.3),\n",
        "        tf.keras.layers.Dense(1, activation='sigmoid')\n",
        "    ])\n",
        "\n",
        "    model.compile(optimizer=tf.keras.optimizers.Adam(learning_rate=0.01),\n",
        "                  loss=tf.keras.losses.BinaryCrossentropy(from_logits=False),\n",
        "                  metrics=['accuracy']\n",
        "                  )\n",
        "\n",
        "    checkpoint_path = 'temp_checkpoint.ckpt'\n",
        "    checkpoint = ModelCheckpoint(filepath=checkpoint_path,\n",
        "                                 save_weights_only=True,\n",
        "                                 save_best_only=True,\n",
        "                                 monitor='val_loss',\n",
        "                                 verbose=1\n",
        "                                 )\n",
        "    model.fit(train_gen, validation_data=valid_gen,\n",
        "              epochs=10, callbacks=[checkpoint])\n",
        "\n",
        "    model.load_weights(checkpoint_path)\n",
        "    return model"
      ],
      "metadata": {
        "id": "4Lq4zM0NulA8"
      },
      "execution_count": 7,
      "outputs": []
    },
    {
      "cell_type": "code",
      "source": [
        "if __name__ == '__main__':\n",
        "    model = solution_model()\n",
        "    model.save(\"TF3-cats-vs-dogs.h5\")"
      ],
      "metadata": {
        "id": "WEunTtmauk-5",
        "colab": {
          "base_uri": "https://localhost:8080/"
        },
        "outputId": "f060c6aa-1f9b-4764-b466-77961434c2dd"
      },
      "execution_count": null,
      "outputs": [
        {
          "output_type": "stream",
          "name": "stdout",
          "text": [
            "Epoch 1/10\n",
            "229/251 [==========================>...] - ETA: 1:07 - loss: 23.0185 - accuracy: 0.4977"
          ]
        }
      ]
    },
    {
      "cell_type": "code",
      "source": [],
      "metadata": {
        "id": "hJh9r0NdSEDk"
      },
      "execution_count": null,
      "outputs": []
    }
  ]
}