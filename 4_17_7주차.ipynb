{
  "nbformat": 4,
  "nbformat_minor": 0,
  "metadata": {
    "colab": {
      "provenance": [],
      "authorship_tag": "ABX9TyNwyNJpfSAJkpuNTF/2etoc",
      "include_colab_link": true
    },
    "kernelspec": {
      "name": "python3",
      "display_name": "Python 3"
    },
    "language_info": {
      "name": "python"
    }
  },
  "cells": [
    {
      "cell_type": "markdown",
      "metadata": {
        "id": "view-in-github",
        "colab_type": "text"
      },
      "source": [
        "<a href=\"https://colab.research.google.com/github/Hyuncastl/MACHINE_LEARNING/blob/main/4_17_7%EC%A3%BC%EC%B0%A8.ipynb\" target=\"_parent\"><img src=\"https://colab.research.google.com/assets/colab-badge.svg\" alt=\"Open In Colab\"/></a>"
      ]
    },
    {
      "cell_type": "markdown",
      "source": [
        "4장 합성곱 신경망\n",
        "\n",
        "역전파 : 인공 신경망이 예측값과 실제 값의 오차를 계산하였을 때 경사하강법을 사용하여 가중치를 업데이트 하는 과정.\n",
        "\n",
        "심층 신경망으로 이미지 분류\n",
        "  1. 이미지 데이터셋 로드\n",
        "  2. 이미지 데이터 정규화 : 수렴속도 증가\n",
        "  3. DenseLayer에 입력하기 위한 차원축소 : reshape().shape\n",
        "  4. 모델 생성 (DenseLayer(노드수,활성화 함수))\n",
        "  5. compile() : 컴파일 (옵티마이저,손실함수,평가지표)\n",
        "  6. fit() : 훈련\n",
        "  7. evalute() : 검증\n",
        "  8. predict() : 예측\n",
        "\n",
        "1.데이터셋 업로드"
      ],
      "metadata": {
        "id": "0JvMdOd5lV4_"
      }
    },
    {
      "cell_type": "code",
      "source": [
        "import tensorflow as tf\n",
        "import numpy as np\n",
        "import matplotlib.pyplot as plt"
      ],
      "metadata": {
        "id": "jz_KdufVxC2l"
      },
      "execution_count": 1,
      "outputs": []
    },
    {
      "cell_type": "code",
      "execution_count": 2,
      "metadata": {
        "id": "P-NtJb99jGiC"
      },
      "outputs": [],
      "source": [
        "## 1.케라스 내장 데이터셋 업로드\n",
        "mnist = tf.keras.datasets.mnist"
      ]
    },
    {
      "cell_type": "code",
      "source": [
        "(x_train,y_train),(x_test, y_test) = mnist.load_data()"
      ],
      "metadata": {
        "id": "NRUqenrTjM4h",
        "colab": {
          "base_uri": "https://localhost:8080/"
        },
        "outputId": "769e5daa-63ea-401e-878d-cff3ae79224f"
      },
      "execution_count": 3,
      "outputs": [
        {
          "output_type": "stream",
          "name": "stdout",
          "text": [
            "Downloading data from https://storage.googleapis.com/tensorflow/tf-keras-datasets/mnist.npz\n",
            "11490434/11490434 [==============================] - 0s 0us/step\n"
          ]
        }
      ]
    },
    {
      "cell_type": "code",
      "source": [
        "print(\"train set : \",x_train.shape,y_train.shape)\n",
        "print(\"test set : \",x_test.shape,y_test.shape)"
      ],
      "metadata": {
        "colab": {
          "base_uri": "https://localhost:8080/"
        },
        "id": "_kdbC-TBjMz_",
        "outputId": "6049f89c-ef0c-4cde-9dc3-57e9b38d1250"
      },
      "execution_count": 4,
      "outputs": [
        {
          "output_type": "stream",
          "name": "stdout",
          "text": [
            "train set :  (60000, 28, 28) (60000,)\n",
            "test set :  (10000, 28, 28) (10000,)\n"
          ]
        }
      ]
    },
    {
      "cell_type": "code",
      "source": [
        "fig,axes = plt.subplots(3,5)\n",
        "fig.set_size_inches(8,5)\n",
        "\n",
        "for i in range(15):\n",
        "  ax = axes[i//5, i%5]\n",
        "  ax.imshow(x_train[i],cmap =  'gray')\n",
        "  ax.axis('off')\n",
        "  ax.set_title(str(y_train[i]))\n",
        "plt.tight_layout()\n",
        "plt.show()"
      ],
      "metadata": {
        "colab": {
          "base_uri": "https://localhost:8080/",
          "height": 510
        },
        "id": "VJeBuIWdjMpX",
        "outputId": "edd9f493-6a42-4027-85ee-74067abce290"
      },
      "execution_count": 5,
      "outputs": [
        {
          "output_type": "display_data",
          "data": {
            "text/plain": [
              "<Figure size 800x500 with 15 Axes>"
            ],
            "image/png": "[encoded data removed]"
          },
          "metadata": {}
        }
      ]
    },
    {
      "cell_type": "code",
      "source": [
        "##정규화 : 0~1 사이 값으로 변환, 최대값으로 나눈다\n",
        "x_trian_n = x_train / x_train.max()"
      ],
      "metadata": {
        "id": "nG4TaIvYz85k"
      },
      "execution_count": 6,
      "outputs": []
    },
    {
      "cell_type": "code",
      "source": [
        "x_train[0,10:15,10:15]"
      ],
      "metadata": {
        "colab": {
          "base_uri": "https://localhost:8080/"
        },
        "id": "4ImgEo6JjMmn",
        "outputId": "656ed3de-2c8e-4b29-d9b2-b03045bcb62e"
      },
      "execution_count": 7,
      "outputs": [
        {
          "output_type": "execute_result",
          "data": {
            "text/plain": [
              "array([[  1, 154, 253,  90,   0],\n",
              "       [  0, 139, 253, 190,   2],\n",
              "       [  0,  11, 190, 253,  70],\n",
              "       [  0,   0,  35, 241, 225],\n",
              "       [  0,   0,   0,  81, 240]], dtype=uint8)"
            ]
          },
          "metadata": {},
          "execution_count": 7
        }
      ]
    },
    {
      "cell_type": "code",
      "source": [
        "##차원 축소\n",
        "x_train.reshape(60000,-1).shape"
      ],
      "metadata": {
        "colab": {
          "base_uri": "https://localhost:8080/"
        },
        "id": "OWLzfGHsjMgX",
        "outputId": "20b31a86-23f6-441a-b076-8634e941e968"
      },
      "execution_count": 8,
      "outputs": [
        {
          "output_type": "execute_result",
          "data": {
            "text/plain": [
              "(60000, 784)"
            ]
          },
          "metadata": {},
          "execution_count": 8
        }
      ]
    },
    {
      "cell_type": "code",
      "source": [
        "tf.keras.layers.Flatten()(x_train).shape"
      ],
      "metadata": {
        "colab": {
          "base_uri": "https://localhost:8080/"
        },
        "id": "RNDLKGQ_jMdn",
        "outputId": "3cb52257-ce44-4010-824b-2f0e5380300e"
      },
      "execution_count": 9,
      "outputs": [
        {
          "output_type": "execute_result",
          "data": {
            "text/plain": [
              "TensorShape([60000, 784])"
            ]
          },
          "metadata": {},
          "execution_count": 9
        }
      ]
    },
    {
      "cell_type": "markdown",
      "source": [
        "활설화 함수 : 출력 함수"
      ],
      "metadata": {
        "id": "22HqIabL0qfe"
      }
    },
    {
      "cell_type": "code",
      "source": [
        "tf.keras.layers.Dense(128,activation = 'relu')"
      ],
      "metadata": {
        "colab": {
          "base_uri": "https://localhost:8080/"
        },
        "id": "PpHqOdlXjMZQ",
        "outputId": "68c69d90-8e4c-4261-8e21-d0b74ac7720a"
      },
      "execution_count": 10,
      "outputs": [
        {
          "output_type": "execute_result",
          "data": {
            "text/plain": [
              "<keras.layers.core.dense.Dense at 0x7fd07cb98bb0>"
            ]
          },
          "metadata": {},
          "execution_count": 10
        }
      ]
    },
    {
      "cell_type": "code",
      "source": [
        "##출력층이 1인 경우 : sigmoid\n",
        "tf.keras.layers.Dense(1,activation = 'sigmoid')"
      ],
      "metadata": {
        "colab": {
          "base_uri": "https://localhost:8080/"
        },
        "id": "DMj1fzC-jMWp",
        "outputId": "4fc88d14-e116-45a0-9b0e-8aa9be202522"
      },
      "execution_count": 11,
      "outputs": [
        {
          "output_type": "execute_result",
          "data": {
            "text/plain": [
              "<keras.layers.core.dense.Dense at 0x7fd07cb98c40>"
            ]
          },
          "metadata": {},
          "execution_count": 11
        }
      ]
    },
    {
      "cell_type": "code",
      "source": [
        "##출력층노드 =  2개 이상인 경우 : softmax\n",
        "tf.keras.layers.Dense(10,activation = 'softmax')"
      ],
      "metadata": {
        "colab": {
          "base_uri": "https://localhost:8080/"
        },
        "id": "ZQup5IrvjMUH",
        "outputId": "f0410e1e-73cb-476d-924c-a8629937d7d2"
      },
      "execution_count": 12,
      "outputs": [
        {
          "output_type": "execute_result",
          "data": {
            "text/plain": [
              "<keras.layers.core.dense.Dense at 0x7fd07cbd5cf0>"
            ]
          },
          "metadata": {},
          "execution_count": 12
        }
      ]
    },
    {
      "cell_type": "code",
      "source": [
        "model = tf.keras.Sequential([tf.keras.layers.Flatten(input_shape = (28,28)),\n",
        "                             tf.keras.layers.Dense(256,activation = 'relu'),\n",
        "                             tf.keras.layers.Dense(64,activation = 'relu'),\n",
        "                             tf.keras.layers.Dense(32,activation = 'relu'),\n",
        "                             tf.keras.layers.Dense(10,activation = 'softmax')])"
      ],
      "metadata": {
        "id": "i5jdlHCcjMC_"
      },
      "execution_count": 13,
      "outputs": []
    },
    {
      "cell_type": "code",
      "source": [
        "##출력 노드 가 1개. sigmoid 활성화 함수를 적용한 경우\n",
        "model.compile(loss = 'binary_crossenttropy')"
      ],
      "metadata": {
        "id": "yYk0mv_NjMRf"
      },
      "execution_count": 14,
      "outputs": []
    },
    {
      "cell_type": "code",
      "source": [
        "##출력 노드 가 2개 이상. sofrmax 활성화 함수를 적용한 경우\n",
        "model.compile(loss = 'categorical_crossenttropy')"
      ],
      "metadata": {
        "id": "cuIoC5qIjMO3"
      },
      "execution_count": 15,
      "outputs": []
    },
    {
      "cell_type": "code",
      "source": [
        "##y가 원 핫 벡터가 아닌 경우\n",
        "model.compile(loss = 'sparse_categorical_crossenttropy')"
      ],
      "metadata": {
        "id": "VQNpehY3jMMo"
      },
      "execution_count": 16,
      "outputs": []
    },
    {
      "cell_type": "markdown",
      "source": [
        "옵티마이저 : 손실을 낮추기 위해 신경망의 가중치와 학습률과 같은 신경망의 속성을 변경하는데 최적화화 방법"
      ],
      "metadata": {
        "id": "5iaIVP9w18-j"
      }
    },
    {
      "cell_type": "code",
      "source": [
        "##클래스 인스턴스로 지정\n",
        "adam = tf.keras.optimizers.Adam(lr = 0.001)\n",
        "model.compile(optimizer = adam)\n",
        "\n",
        "##문자열로 지정\n",
        "model.compile(optimizer = 'adam')\n"
      ],
      "metadata": {
        "colab": {
          "base_uri": "https://localhost:8080/"
        },
        "id": "8Ok-kGcbjMH_",
        "outputId": "fcfafc0e-c6cd-4d2e-ebc1-42fa081fe2dc"
      },
      "execution_count": 17,
      "outputs": [
        {
          "output_type": "stream",
          "name": "stderr",
          "text": [
            "WARNING:absl:`lr` is deprecated in Keras optimizer, please use `learning_rate` or use the legacy optimizer, e.g.,tf.keras.optimizers.legacy.Adam.\n"
          ]
        }
      ]
    },
    {
      "cell_type": "code",
      "source": [
        "## 클래스 인스턴스로 지정\n",
        "acc = tf.keras.metrics.SparseCategoricalAccuracy()\n",
        "model.compile(optimizer = adam,loss = 'sparse_categorical_crossentropy',metrics = [acc])"
      ],
      "metadata": {
        "id": "3ugOh1jMjMFX"
      },
      "execution_count": 18,
      "outputs": []
    },
    {
      "cell_type": "markdown",
      "source": [
        "모델 훈련시 훈련 데이터 : x_train,y_train 검증 데이터 : validation_data = (x_test,y_test)"
      ],
      "metadata": {
        "id": "G1YcXQt14qiz"
      }
    },
    {
      "cell_type": "code",
      "source": [
        "model.fit(x_train,y_train,validation_data = (x_test,y_test),epochs = 10 )"
      ],
      "metadata": {
        "colab": {
          "base_uri": "https://localhost:8080/"
        },
        "id": "lnX6LiXrjMAQ",
        "outputId": "40dbfab3-2b70-49c0-a353-4c75eb612599"
      },
      "execution_count": 19,
      "outputs": [
        {
          "output_type": "stream",
          "name": "stdout",
          "text": [
            "Epoch 1/10\n",
            "1875/1875 [==============================] - 17s 8ms/step - loss: 0.9060 - sparse_categorical_accuracy: 0.8773 - val_loss: 0.2812 - val_sparse_categorical_accuracy: 0.9272\n",
            "Epoch 2/10\n",
            "1875/1875 [==============================] - 16s 9ms/step - loss: 0.2028 - sparse_categorical_accuracy: 0.9444 - val_loss: 0.2188 - val_sparse_categorical_accuracy: 0.9390\n",
            "Epoch 3/10\n",
            "1875/1875 [==============================] - 22s 12ms/step - loss: 0.1572 - sparse_categorical_accuracy: 0.9563 - val_loss: 0.1658 - val_sparse_categorical_accuracy: 0.9549\n",
            "Epoch 4/10\n",
            "1875/1875 [==============================] - 21s 11ms/step - loss: 0.1330 - sparse_categorical_accuracy: 0.9632 - val_loss: 0.1261 - val_sparse_categorical_accuracy: 0.9652\n",
            "Epoch 5/10\n",
            "1875/1875 [==============================] - 14s 8ms/step - loss: 0.1087 - sparse_categorical_accuracy: 0.9699 - val_loss: 0.1492 - val_sparse_categorical_accuracy: 0.9634\n",
            "Epoch 6/10\n",
            "1875/1875 [==============================] - 15s 8ms/step - loss: 0.0939 - sparse_categorical_accuracy: 0.9736 - val_loss: 0.1446 - val_sparse_categorical_accuracy: 0.9627\n",
            "Epoch 7/10\n",
            "1875/1875 [==============================] - 15s 8ms/step - loss: 0.0858 - sparse_categorical_accuracy: 0.9765 - val_loss: 0.1577 - val_sparse_categorical_accuracy: 0.9627\n",
            "Epoch 8/10\n",
            "1875/1875 [==============================] - 20s 11ms/step - loss: 0.0767 - sparse_categorical_accuracy: 0.9785 - val_loss: 0.1244 - val_sparse_categorical_accuracy: 0.9708\n",
            "Epoch 9/10\n",
            "1875/1875 [==============================] - 16s 8ms/step - loss: 0.0670 - sparse_categorical_accuracy: 0.9810 - val_loss: 0.1059 - val_sparse_categorical_accuracy: 0.9751\n",
            "Epoch 10/10\n",
            "1875/1875 [==============================] - 15s 8ms/step - loss: 0.0600 - sparse_categorical_accuracy: 0.9833 - val_loss: 0.1033 - val_sparse_categorical_accuracy: 0.9761\n"
          ]
        },
        {
          "output_type": "execute_result",
          "data": {
            "text/plain": [
              "<keras.callbacks.History at 0x7fd05d836c80>"
            ]
          },
          "metadata": {},
          "execution_count": 19
        }
      ]
    },
    {
      "cell_type": "code",
      "source": [
        "##검증\n",
        "model.evaluate(x_test, y_test)"
      ],
      "metadata": {
        "colab": {
          "base_uri": "https://localhost:8080/"
        },
        "id": "y8wZCtCv50YD",
        "outputId": "486de607-bae5-4fcc-f4ca-73046cf40d63"
      },
      "execution_count": 20,
      "outputs": [
        {
          "output_type": "stream",
          "name": "stdout",
          "text": [
            "313/313 [==============================] - 1s 3ms/step - loss: 0.1033 - sparse_categorical_accuracy: 0.9761\n"
          ]
        },
        {
          "output_type": "execute_result",
          "data": {
            "text/plain": [
              "[0.10331433266401291, 0.9761000275611877]"
            ]
          },
          "metadata": {},
          "execution_count": 20
        }
      ]
    },
    {
      "cell_type": "code",
      "source": [
        "# 검증 결과 저장\n",
        "test_loss, test_acc = model.evaluate(x_test,y_test)\n",
        "print('검증 셋 정확도:',test_acc)"
      ],
      "metadata": {
        "colab": {
          "base_uri": "https://localhost:8080/"
        },
        "id": "lO8eX6YZ50Vz",
        "outputId": "d212f56d-c761-42c5-a60b-2ea0204b3bc5"
      },
      "execution_count": 21,
      "outputs": [
        {
          "output_type": "stream",
          "name": "stdout",
          "text": [
            "313/313 [==============================] - 1s 3ms/step - loss: 0.1033 - sparse_categorical_accuracy: 0.9761\n",
            "검증 셋 정확도: 0.9761000275611877\n"
          ]
        }
      ]
    },
    {
      "cell_type": "code",
      "source": [
        "predictions = model.predict(x_test)\n",
        "predictions[0]"
      ],
      "metadata": {
        "colab": {
          "base_uri": "https://localhost:8080/"
        },
        "id": "W6xwECS350ST",
        "outputId": "24aabdf8-12ca-4b4c-cb8c-43ea7583c552"
      },
      "execution_count": 22,
      "outputs": [
        {
          "output_type": "stream",
          "name": "stdout",
          "text": [
            "313/313 [==============================] - 1s 3ms/step\n"
          ]
        },
        {
          "output_type": "execute_result",
          "data": {
            "text/plain": [
              "array([1.1322434e-15, 7.7282514e-10, 1.3044622e-08, 1.0613065e-06,\n",
              "       1.9002417e-08, 6.6074118e-10, 6.0935457e-15, 9.9999827e-01,\n",
              "       1.8712940e-09, 6.4532782e-07], dtype=float32)"
            ]
          },
          "metadata": {},
          "execution_count": 22
        }
      ]
    },
    {
      "cell_type": "code",
      "source": [
        "predictions[0].max()"
      ],
      "metadata": {
        "colab": {
          "base_uri": "https://localhost:8080/"
        },
        "id": "HgMRQKy_50P7",
        "outputId": "425f90a5-1031-4a7c-de4f-977d24fca567"
      },
      "execution_count": 23,
      "outputs": [
        {
          "output_type": "execute_result",
          "data": {
            "text/plain": [
              "0.9999983"
            ]
          },
          "metadata": {},
          "execution_count": 23
        }
      ]
    },
    {
      "cell_type": "code",
      "source": [
        "np.argmax(predictions[0])"
      ],
      "metadata": {
        "id": "yYG6BiC050HT",
        "colab": {
          "base_uri": "https://localhost:8080/"
        },
        "outputId": "c1ec8e3e-2a8c-473b-e7af-7bb391f53867"
      },
      "execution_count": 24,
      "outputs": [
        {
          "output_type": "execute_result",
          "data": {
            "text/plain": [
              "7"
            ]
          },
          "metadata": {},
          "execution_count": 24
        }
      ]
    },
    {
      "cell_type": "code",
      "source": [
        "predictions[0].min()"
      ],
      "metadata": {
        "id": "RdW5SJRk5zxD",
        "colab": {
          "base_uri": "https://localhost:8080/"
        },
        "outputId": "80d3a7bf-48c8-405a-aaa0-2550d0e24114"
      },
      "execution_count": 25,
      "outputs": [
        {
          "output_type": "execute_result",
          "data": {
            "text/plain": [
              "1.1322434e-15"
            ]
          },
          "metadata": {},
          "execution_count": 25
        }
      ]
    },
    {
      "cell_type": "code",
      "source": [
        "np.argmin(predictions[0])"
      ],
      "metadata": {
        "colab": {
          "base_uri": "https://localhost:8080/"
        },
        "id": "HGUHp1mx7etD",
        "outputId": "8a82efcf-513b-453b-a041-cc3bd03af5cf"
      },
      "execution_count": 26,
      "outputs": [
        {
          "output_type": "execute_result",
          "data": {
            "text/plain": [
              "0"
            ]
          },
          "metadata": {},
          "execution_count": 26
        }
      ]
    },
    {
      "cell_type": "code",
      "source": [
        "def get_one_result(idx):\n",
        "  img, y_true, y_pred, confidence = x_test[idx],y_test[idx],np.argmax(predictions[idx]),100*np.max(predictions[idx])\n",
        "  return img, y_true, y_pred, confidence"
      ],
      "metadata": {
        "id": "XGPyGDx47sf_"
      },
      "execution_count": 27,
      "outputs": []
    },
    {
      "cell_type": "code",
      "source": [
        "fig,axes = plt.subplots(3,5)\n",
        "fig.set_size_inches(12,10)\n",
        "\n",
        "for i in range(15):\n",
        "  ax = axes[i//5, i%5]\n",
        "  img,y_true,y_pred,confidence = get_one_result(i)\n",
        "  ax.imshow(img,cmap =  'gray')\n",
        "  ##x,y축 눈금\n",
        "\n",
        "  ax.set_xticks([])\n",
        "  ax.set_yticks([])\n",
        "  ax.set_title(f'True : {y_true}',fontsize= 12)\n",
        "  ax.set_xlabel(f'Prediction : {y_pred}\\nConfidence : ({confidence:.2f}%)',fontsize= 10)\n",
        "plt.tight_layout()\n",
        "plt.show()"
      ],
      "metadata": {
        "colab": {
          "base_uri": "https://localhost:8080/",
          "height": 966
        },
        "id": "i9-nBqbe7seX",
        "outputId": "c621fa08-657a-44e8-f364-f49954ad9fe0"
      },
      "execution_count": 28,
      "outputs": [
        {
          "output_type": "display_data",
          "data": {
            "text/plain": [
              "<Figure size 1200x1000 with 15 Axes>"
            ],
            "image/png": "[encoded data removed]"
          },
          "metadata": {}
        }
      ]
    },
    {
      "cell_type": "markdown",
      "source": [
        "#4.1 가중치 초기화 \n",
        "1. he_uniform :  활설화 함수가 ReLU인 경우 사용\n",
        "2. glorot_uniform : 활성화 함수가 Sigmoid, Tahn 인 경우 사용"
      ],
      "metadata": {
        "id": "kUXQzkWaav8X"
      }
    },
    {
      "cell_type": "code",
      "source": [
        "##kernel_initializer = 'uniform'\n",
        "dense = tf.keras.layers.Dense(256,kernel_initializer = 'uniform', activation = 'relu')"
      ],
      "metadata": {
        "id": "yekmbyFY7sax"
      },
      "execution_count": 29,
      "outputs": []
    },
    {
      "cell_type": "code",
      "source": [
        "##kernel_initializer = 'normal'\n",
        "dense = tf.keras.layers.Dense(256,kernel_initializer = 'normal', activation = 'relu')"
      ],
      "metadata": {
        "id": "-m64hM1G7sWf"
      },
      "execution_count": 30,
      "outputs": []
    },
    {
      "cell_type": "code",
      "source": [
        "##kernel_initializer = 'he_normal'\n",
        "dense = tf.keras.layers.Dense(256,kernel_initializer = 'he_normal', activation = 'relu')"
      ],
      "metadata": {
        "id": "IjFM0SnAaNhX"
      },
      "execution_count": 31,
      "outputs": []
    },
    {
      "cell_type": "code",
      "source": [
        "dense = tf.keras.layers.Dense(256,kernel_initializer = 'uniform', activation = 'relu')"
      ],
      "metadata": {
        "id": "RtYvH1zH7sYX"
      },
      "execution_count": 32,
      "outputs": []
    },
    {
      "cell_type": "code",
      "source": [
        "tf.keras.layers.Dropout(0.25)"
      ],
      "metadata": {
        "colab": {
          "base_uri": "https://localhost:8080/"
        },
        "id": "8U1IRWRfaKKa",
        "outputId": "b26de8f5-d8a4-42f2-86fd-94ef99dd0342"
      },
      "execution_count": 33,
      "outputs": [
        {
          "output_type": "execute_result",
          "data": {
            "text/plain": [
              "<keras.layers.regularization.dropout.Dropout at 0x7fd05cd1e2c0>"
            ]
          },
          "metadata": {},
          "execution_count": 33
        }
      ]
    },
    {
      "cell_type": "code",
      "source": [
        "print(\"train set: \", x_train.shape, y_train.shape)\n",
        "print(\"test set: \", x_test.shape, x_test.shape)"
      ],
      "metadata": {
        "colab": {
          "base_uri": "https://localhost:8080/"
        },
        "id": "6mbZ8myhaKC8",
        "outputId": "5edcc923-76c2-45f6-fcef-d7807a6549ea"
      },
      "execution_count": 34,
      "outputs": [
        {
          "output_type": "stream",
          "name": "stdout",
          "text": [
            "train set:  (60000, 28, 28) (60000,)\n",
            "test set:  (10000, 28, 28) (10000, 28, 28)\n"
          ]
        }
      ]
    },
    {
      "cell_type": "code",
      "source": [
        "##가중치를 적용하지 않은 경우\n",
        "model = tf.keras.Sequential([tf.keras.layers.Flatten(input_shape = (28,28)),\n",
        "                             tf.keras.layers.Dense(64, activation = 'relu'),\n",
        "                             tf.keras.layers.Dense(32, activation = 'relu'),\n",
        "                             tf.keras.layers.Dense(10, activation = 'softmax')\n",
        "])\n",
        "model.summary()"
      ],
      "metadata": {
        "colab": {
          "base_uri": "https://localhost:8080/"
        },
        "id": "aX9baISsaJ80",
        "outputId": "2cf86c34-7285-42a5-8f25-205a893fa7c6"
      },
      "execution_count": 35,
      "outputs": [
        {
          "output_type": "stream",
          "name": "stdout",
          "text": [
            "Model: \"sequential_1\"\n",
            "_________________________________________________________________\n",
            " Layer (type)                Output Shape              Param #   \n",
            "=================================================================\n",
            " flatten_2 (Flatten)         (None, 784)               0         \n",
            "                                                                 \n",
            " dense_11 (Dense)            (None, 64)                50240     \n",
            "                                                                 \n",
            " dense_12 (Dense)            (None, 32)                2080      \n",
            "                                                                 \n",
            " dense_13 (Dense)            (None, 10)                330       \n",
            "                                                                 \n",
            "=================================================================\n",
            "Total params: 52,650\n",
            "Trainable params: 52,650\n",
            "Non-trainable params: 0\n",
            "_________________________________________________________________\n"
          ]
        }
      ]
    },
    {
      "cell_type": "code",
      "source": [
        "adam = tf.keras.optimizers.Adam(lr=0.001)\n",
        "acc=tf.keras.metrics.SparseCategoricalAccuracy()\n",
        "model.compile(optimizer=adam, loss = 'sparse_categorical_crossentropy', metrics = ['accuracy'])"
      ],
      "metadata": {
        "colab": {
          "base_uri": "https://localhost:8080/"
        },
        "id": "IuXQ7eE1eUim",
        "outputId": "5bec62c1-330b-4ba5-bb4b-4ca5c0090ccc"
      },
      "execution_count": 46,
      "outputs": [
        {
          "output_type": "stream",
          "name": "stderr",
          "text": [
            "WARNING:absl:`lr` is deprecated in Keras optimizer, please use `learning_rate` or use the legacy optimizer, e.g.,tf.keras.optimizers.legacy.Adam.\n"
          ]
        }
      ]
    },
    {
      "cell_type": "code",
      "source": [
        "###keral_initializer = 'he_normal'을 적용한 경우\n",
        "model_w_he = tf.keras.Sequential([tf.keras.layers.Flatten(input_shape = (28,28)),\n",
        "                             tf.keras.layers.Dense(64, kernel_initializer = 'he_normal',activation = 'relu'),\n",
        "                             tf.keras.layers.Dense(32, activation = 'relu'),\n",
        "                             tf.keras.layers.Dense(10, activation = 'softmax')\n",
        "])\n",
        "model_w_he.summary()"
      ],
      "metadata": {
        "colab": {
          "base_uri": "https://localhost:8080/"
        },
        "id": "ph7CN1yKaJ4o",
        "outputId": "aba77508-75ee-4c85-9f69-97a141a187cb"
      },
      "execution_count": 47,
      "outputs": [
        {
          "output_type": "stream",
          "name": "stdout",
          "text": [
            "Model: \"sequential_4\"\n",
            "_________________________________________________________________\n",
            " Layer (type)                Output Shape              Param #   \n",
            "=================================================================\n",
            " flatten_5 (Flatten)         (None, 784)               0         \n",
            "                                                                 \n",
            " dense_20 (Dense)            (None, 64)                50240     \n",
            "                                                                 \n",
            " dense_21 (Dense)            (None, 32)                2080      \n",
            "                                                                 \n",
            " dense_22 (Dense)            (None, 10)                330       \n",
            "                                                                 \n",
            "=================================================================\n",
            "Total params: 52,650\n",
            "Trainable params: 52,650\n",
            "Non-trainable params: 0\n",
            "_________________________________________________________________\n"
          ]
        }
      ]
    },
    {
      "cell_type": "code",
      "source": [
        "model_w_he.compile(optimizer='adam', loss = 'sparse_categorical_crossentropy', metrics=['accuracy'])\n",
        "history_w_he = model_w_he.fit(x_train,y_train, validation_data = (x_test, y_test), epochs = 10)"
      ],
      "metadata": {
        "colab": {
          "base_uri": "https://localhost:8080/"
        },
        "id": "U3Uf2pZyd6wA",
        "outputId": "d9d3fbd6-62ec-4d73-9fa0-09be77fd7d86"
      },
      "execution_count": 49,
      "outputs": [
        {
          "output_type": "stream",
          "name": "stdout",
          "text": [
            "Epoch 1/10\n",
            "1875/1875 [==============================] - 11s 5ms/step - loss: 1.4483 - accuracy: 0.6894 - val_loss: 0.6696 - val_accuracy: 0.8462\n",
            "Epoch 2/10\n",
            "1875/1875 [==============================] - 9s 5ms/step - loss: 0.5061 - accuracy: 0.8796 - val_loss: 0.4228 - val_accuracy: 0.9033\n",
            "Epoch 3/10\n",
            "1875/1875 [==============================] - 8s 4ms/step - loss: 0.3211 - accuracy: 0.9226 - val_loss: 0.3111 - val_accuracy: 0.9291\n",
            "Epoch 4/10\n",
            "1875/1875 [==============================] - 9s 5ms/step - loss: 0.2354 - accuracy: 0.9421 - val_loss: 0.2409 - val_accuracy: 0.9447\n",
            "Epoch 5/10\n",
            "1875/1875 [==============================] - 8s 4ms/step - loss: 0.1887 - accuracy: 0.9517 - val_loss: 0.1988 - val_accuracy: 0.9497\n",
            "Epoch 6/10\n",
            "1875/1875 [==============================] - 9s 5ms/step - loss: 0.1597 - accuracy: 0.9588 - val_loss: 0.1795 - val_accuracy: 0.9595\n",
            "Epoch 7/10\n",
            "1875/1875 [==============================] - 9s 5ms/step - loss: 0.1394 - accuracy: 0.9634 - val_loss: 0.1891 - val_accuracy: 0.9591\n",
            "Epoch 8/10\n",
            "1875/1875 [==============================] - 9s 5ms/step - loss: 0.1271 - accuracy: 0.9678 - val_loss: 0.1845 - val_accuracy: 0.9618\n",
            "Epoch 9/10\n",
            "1875/1875 [==============================] - 8s 4ms/step - loss: 0.1152 - accuracy: 0.9707 - val_loss: 0.1596 - val_accuracy: 0.9633\n",
            "Epoch 10/10\n",
            "1875/1875 [==============================] - 8s 4ms/step - loss: 0.1035 - accuracy: 0.9728 - val_loss: 0.1550 - val_accuracy: 0.9668\n"
          ]
        }
      ]
    },
    {
      "cell_type": "code",
      "source": [
        "##두 모델 비교 시각화\n",
        "plt.figure(figsize = (5,3))\n",
        "plt.plot(np.arange(1,11), history.history['val_loss'], color = 'navy', label = 'None')\n",
        "plt.plot(np.arange(1,11), history_w_he.history['val_loss'], color = 'tomato', label = 'He Initialization')\n",
        "plt.title(\"Losses\", fontsize = 20)\n",
        "plt.xlabel('epochs')\n",
        "plt.ylabel(\"Losses\")\n",
        "plt.legend()\n",
        "plt.show"
      ],
      "metadata": {
        "colab": {
          "base_uri": "https://localhost:8080/",
          "height": 359
        },
        "id": "-ZzC0BJMaJ2S",
        "outputId": "e5d48a80-dc55-40a6-a2b4-cfc7905f26a7"
      },
      "execution_count": 50,
      "outputs": [
        {
          "output_type": "execute_result",
          "data": {
            "text/plain": [
              "<function matplotlib.pyplot.show(close=None, block=None)>"
            ]
          },
          "metadata": {},
          "execution_count": 50
        },
        {
          "output_type": "display_data",
          "data": {
            "text/plain": [
              "<Figure size 500x300 with 1 Axes>"
            ],
            "image/png": "[encoded data removed]"
          },
          "metadata": {}
        }
      ]
    },
    {
      "cell_type": "code",
      "source": [
        "###keral_initializer = 'glorot_normal'을 적용한 경우\n",
        "model_w_gl = tf.keras.Sequential([tf.keras.layers.Flatten(input_shape = (28,28)),\n",
        "                             tf.keras.layers.Dense(64, kernel_initializer = 'glorot_normal',activation = 'sigmoid'),\n",
        "                             tf.keras.layers.Dense(32, activation = 'sigmoid'),\n",
        "                             tf.keras.layers.Dense(10, activation = 'softmax')\n",
        "])\n",
        "model_w_gl.summary()"
      ],
      "metadata": {
        "colab": {
          "base_uri": "https://localhost:8080/"
        },
        "id": "OnEFAf7FaJ0S",
        "outputId": "078d445d-d41f-4cd8-a571-8980a36a8e31"
      },
      "execution_count": 51,
      "outputs": [
        {
          "output_type": "stream",
          "name": "stdout",
          "text": [
            "Model: \"sequential_5\"\n",
            "_________________________________________________________________\n",
            " Layer (type)                Output Shape              Param #   \n",
            "=================================================================\n",
            " flatten_6 (Flatten)         (None, 784)               0         \n",
            "                                                                 \n",
            " dense_23 (Dense)            (None, 64)                50240     \n",
            "                                                                 \n",
            " dense_24 (Dense)            (None, 32)                2080      \n",
            "                                                                 \n",
            " dense_25 (Dense)            (None, 10)                330       \n",
            "                                                                 \n",
            "=================================================================\n",
            "Total params: 52,650\n",
            "Trainable params: 52,650\n",
            "Non-trainable params: 0\n",
            "_________________________________________________________________\n"
          ]
        }
      ]
    },
    {
      "cell_type": "code",
      "source": [
        "model_w_gl.compile(optimizer='adam',\n",
        "              loss = 'sparse_categorical_crossentropy',\n",
        "              metrics=['accuracy'])\n",
        "history_w_gl = model_w_gl.fit(x_train,y_train, validation_data = (x_test, y_test), epochs = 10)"
      ],
      "metadata": {
        "colab": {
          "base_uri": "https://localhost:8080/"
        },
        "id": "Q22bES9_aJya",
        "outputId": "5b4e5b25-329c-4b80-882c-f08eb51b22d3"
      },
      "execution_count": 52,
      "outputs": [
        {
          "output_type": "stream",
          "name": "stdout",
          "text": [
            "Epoch 1/10\n",
            "1875/1875 [==============================] - 10s 5ms/step - loss: 0.7824 - accuracy: 0.8031 - val_loss: 0.4467 - val_accuracy: 0.8752\n",
            "Epoch 2/10\n",
            "1875/1875 [==============================] - 10s 6ms/step - loss: 0.4092 - accuracy: 0.8777 - val_loss: 0.3594 - val_accuracy: 0.8905\n",
            "Epoch 3/10\n",
            "1875/1875 [==============================] - 8s 4ms/step - loss: 0.3737 - accuracy: 0.8846 - val_loss: 0.3563 - val_accuracy: 0.8895\n",
            "Epoch 4/10\n",
            "1875/1875 [==============================] - 10s 5ms/step - loss: 0.3372 - accuracy: 0.8955 - val_loss: 0.2987 - val_accuracy: 0.9092\n",
            "Epoch 5/10\n",
            "1875/1875 [==============================] - 12s 6ms/step - loss: 0.3270 - accuracy: 0.8990 - val_loss: 0.3201 - val_accuracy: 0.9009\n",
            "Epoch 6/10\n",
            "1875/1875 [==============================] - 13s 7ms/step - loss: 0.3014 - accuracy: 0.9061 - val_loss: 0.2790 - val_accuracy: 0.9139\n",
            "Epoch 7/10\n",
            "1875/1875 [==============================] - 14s 8ms/step - loss: 0.2995 - accuracy: 0.9071 - val_loss: 0.3008 - val_accuracy: 0.9068\n",
            "Epoch 8/10\n",
            "1875/1875 [==============================] - 13s 7ms/step - loss: 0.2990 - accuracy: 0.9081 - val_loss: 0.3043 - val_accuracy: 0.9055\n",
            "Epoch 9/10\n",
            "1875/1875 [==============================] - 10s 5ms/step - loss: 0.2836 - accuracy: 0.9128 - val_loss: 0.2789 - val_accuracy: 0.9158\n",
            "Epoch 10/10\n",
            "1875/1875 [==============================] - 13s 7ms/step - loss: 0.2680 - accuracy: 0.9177 - val_loss: 0.2508 - val_accuracy: 0.9229\n"
          ]
        }
      ]
    },
    {
      "cell_type": "code",
      "source": [
        "##세 모델 비교 시각화\n",
        "plt.figure(figsize = (5,3))\n",
        "plt.plot(np.arange(1,11), history.history['val_loss'], color = 'navy', label = 'None')\n",
        "plt.plot(np.arange(1,11), history_w_he.history['val_loss'], color = 'tomato', label = 'He Initialization')\n",
        "plt.plot(np.arange(1,11), history_w_gl.history['val_loss'], color = 'green', label = 'Xavier Initialization')\n",
        "plt.title(\"Losses\", fontsize = 20)\n",
        "plt.xlabel('epochs')\n",
        "plt.ylabel(\"Losses\")\n",
        "plt.legend()\n",
        "plt.show"
      ],
      "metadata": {
        "colab": {
          "base_uri": "https://localhost:8080/",
          "height": 359
        },
        "id": "RfEwAKnmfC0x",
        "outputId": "9946b3f0-74ed-4235-df88-dc0324767673"
      },
      "execution_count": 53,
      "outputs": [
        {
          "output_type": "execute_result",
          "data": {
            "text/plain": [
              "<function matplotlib.pyplot.show(close=None, block=None)>"
            ]
          },
          "metadata": {},
          "execution_count": 53
        },
        {
          "output_type": "display_data",
          "data": {
            "text/plain": [
              "<Figure size 500x300 with 1 Axes>"
            ],
            "image/png": "[encoded data removed]"
          },
          "metadata": {}
        }
      ]
    },
    {
      "cell_type": "markdown",
      "source": [
        "#4-2 규제 Regularization)\n",
        "1. L1 : 가중치의 절대 값에 0.001을 곱하여 비용 추가 0.001\n",
        "2. L2 : 가중치의 제곱에 0.001을 곱하여 비용 추가 0.001"
      ],
      "metadata": {
        "id": "pkUVMbU3fTl1"
      }
    },
    {
      "cell_type": "code",
      "source": [
        "regularizer2 = tf.keras.regularizers.l2(0.001)\n",
        "L2_model = tf.keras.Sequential([\n",
        "    tf.keras.layers.Flatten(input_shape=(28,28)),\n",
        "    tf.keras.layers.Dense(64,kernel_initializer = 'normal', kernel_regularizer = regularizer2, activation = 'relu'),\n",
        "    tf.keras.layers.Dense(32,kernel_initializer = 'normal', kernel_regularizer = regularizer2, activation = 'relu'),\n",
        "    tf.keras.layers.Dense(10, activation = 'softmax'),\n",
        "])"
      ],
      "metadata": {
        "id": "lTY96rVtfCyn"
      },
      "execution_count": 64,
      "outputs": []
    },
    {
      "cell_type": "code",
      "source": [
        "L2_model.compile(optimizer='adam',loss = 'sparse_categorical_crossentropy', metrics=['accuracy'])\n",
        "L2_model = L2_model.fit(x_train,y_train, validation_data = (x_test, y_test), epochs = 10)"
      ],
      "metadata": {
        "colab": {
          "base_uri": "https://localhost:8080/"
        },
        "id": "THe1A_LifCwj",
        "outputId": "331d0375-6c51-4bcd-a0d4-48ba89c765a3"
      },
      "execution_count": 65,
      "outputs": [
        {
          "output_type": "stream",
          "name": "stdout",
          "text": [
            "Epoch 1/10\n",
            "1875/1875 [==============================] - 10s 5ms/step - loss: 0.8175 - accuracy: 0.8394 - val_loss: 0.3583 - val_accuracy: 0.9298\n",
            "Epoch 2/10\n",
            "1875/1875 [==============================] - 8s 4ms/step - loss: 0.3122 - accuracy: 0.9358 - val_loss: 0.2476 - val_accuracy: 0.9499\n",
            "Epoch 3/10\n",
            "1875/1875 [==============================] - 9s 5ms/step - loss: 0.2410 - accuracy: 0.9512 - val_loss: 0.2316 - val_accuracy: 0.9528\n",
            "Epoch 4/10\n",
            "1875/1875 [==============================] - 10s 5ms/step - loss: 0.2080 - accuracy: 0.9592 - val_loss: 0.2172 - val_accuracy: 0.9573\n",
            "Epoch 5/10\n",
            "1875/1875 [==============================] - 8s 4ms/step - loss: 0.1951 - accuracy: 0.9624 - val_loss: 0.1897 - val_accuracy: 0.9646\n",
            "Epoch 6/10\n",
            "1875/1875 [==============================] - 9s 5ms/step - loss: 0.1880 - accuracy: 0.9643 - val_loss: 0.1905 - val_accuracy: 0.9649\n",
            "Epoch 7/10\n",
            "1875/1875 [==============================] - 9s 5ms/step - loss: 0.1818 - accuracy: 0.9659 - val_loss: 0.1983 - val_accuracy: 0.9624\n",
            "Epoch 8/10\n",
            "1875/1875 [==============================] - 8s 4ms/step - loss: 0.1766 - accuracy: 0.9679 - val_loss: 0.1989 - val_accuracy: 0.9621\n",
            "Epoch 9/10\n",
            "1875/1875 [==============================] - 14s 7ms/step - loss: 0.1764 - accuracy: 0.9685 - val_loss: 0.1903 - val_accuracy: 0.9629\n",
            "Epoch 10/10\n",
            "1875/1875 [==============================] - 13s 7ms/step - loss: 0.1721 - accuracy: 0.9694 - val_loss: 0.1949 - val_accuracy: 0.9624\n"
          ]
        }
      ]
    },
    {
      "cell_type": "code",
      "source": [
        "##L1규제\n",
        "regularizer1 = tf.keras.regularizers.l1(0.001)\n",
        "L1_model = tf.keras.Sequential([\n",
        "    tf.keras.layers.Flatten(input_shape=(28,28)),\n",
        "    tf.keras.layers.Dense(64,kernel_initializer = 'normal', kernel_regularizer = regularizer1, activation = 'relu'),\n",
        "    tf.keras.layers.Dense(32,kernel_initializer = 'normal', kernel_regularizer = regularizer1, activation = 'relu'),\n",
        "    tf.keras.layers.Dense(10, activation = 'softmax'),\n",
        "])"
      ],
      "metadata": {
        "id": "mjpEm9u6fCuW"
      },
      "execution_count": 66,
      "outputs": []
    },
    {
      "cell_type": "code",
      "source": [
        "L1_model.compile(optimizer='adam',loss = 'sparse_categorical_crossentropy', metrics=['accuracy'])\n",
        "L1_model = L1_model.fit(x_train,y_train, validation_data = (x_test, y_test), epochs = 10)"
      ],
      "metadata": {
        "colab": {
          "base_uri": "https://localhost:8080/"
        },
        "id": "acL0WE6gfCsP",
        "outputId": "a2411ec7-a68b-43ea-d968-d20c08ed1d6c"
      },
      "execution_count": 67,
      "outputs": [
        {
          "output_type": "stream",
          "name": "stdout",
          "text": [
            "Epoch 1/10\n",
            "1875/1875 [==============================] - 11s 5ms/step - loss: 1.7371 - accuracy: 0.8539 - val_loss: 0.9356 - val_accuracy: 0.9226\n",
            "Epoch 2/10\n",
            "1875/1875 [==============================] - 8s 4ms/step - loss: 0.7380 - accuracy: 0.9272 - val_loss: 0.6228 - val_accuracy: 0.9285\n",
            "Epoch 3/10\n",
            "1875/1875 [==============================] - 16s 8ms/step - loss: 0.5371 - accuracy: 0.9362 - val_loss: 0.4531 - val_accuracy: 0.9488\n",
            "Epoch 4/10\n",
            "1875/1875 [==============================] - 11s 6ms/step - loss: 0.4704 - accuracy: 0.9411 - val_loss: 0.5661 - val_accuracy: 0.9253\n",
            "Epoch 5/10\n",
            "1875/1875 [==============================] - 9s 5ms/step - loss: 0.4267 - accuracy: 0.9469 - val_loss: 0.4653 - val_accuracy: 0.9374\n",
            "Epoch 6/10\n",
            "1875/1875 [==============================] - 9s 5ms/step - loss: 0.4058 - accuracy: 0.9494 - val_loss: 0.4074 - val_accuracy: 0.9472\n",
            "Epoch 7/10\n",
            "1875/1875 [==============================] - 7s 4ms/step - loss: 0.3953 - accuracy: 0.9514 - val_loss: 0.3559 - val_accuracy: 0.9604\n",
            "Epoch 8/10\n",
            "1875/1875 [==============================] - 9s 5ms/step - loss: 0.3797 - accuracy: 0.9523 - val_loss: 0.3822 - val_accuracy: 0.9501\n",
            "Epoch 9/10\n",
            "1875/1875 [==============================] - 9s 5ms/step - loss: 0.3713 - accuracy: 0.9531 - val_loss: 0.3699 - val_accuracy: 0.9539\n",
            "Epoch 10/10\n",
            "1875/1875 [==============================] - 8s 4ms/step - loss: 0.3618 - accuracy: 0.9541 - val_loss: 0.3843 - val_accuracy: 0.9447\n"
          ]
        }
      ]
    },
    {
      "cell_type": "code",
      "source": [
        "##L2 규제 모델 비교 시각화\n",
        "plt.figure(figsize = (5,3))\n",
        "plt.plot(np.arange(1,11),history.history['val_loss'], color = 'navy', label = 'None')\n",
        "plt.plot(np.arange(1,11), L2_model.history['val_loss'], color = 'tomato', label = 'L2 Regularization')\n",
        "plt.plot(np.arange(1,11), L1_model.history['val_loss'], color = 'green', label = 'L1 Regularization')\n",
        "plt.title(\"Losses\", fontsize = 20)\n",
        "plt.xlabel('epochs')\n",
        "plt.ylabel(\"Losses\")\n",
        "plt.legend()\n",
        "plt.show"
      ],
      "metadata": {
        "colab": {
          "base_uri": "https://localhost:8080/",
          "height": 359
        },
        "id": "NzdKs5bpfCZ-",
        "outputId": "e0d4af4d-0c07-46a5-a8a5-2409ea5d0fed"
      },
      "execution_count": 71,
      "outputs": [
        {
          "output_type": "execute_result",
          "data": {
            "text/plain": [
              "<function matplotlib.pyplot.show(close=None, block=None)>"
            ]
          },
          "metadata": {},
          "execution_count": 71
        },
        {
          "output_type": "display_data",
          "data": {
            "text/plain": [
              "<Figure size 500x300 with 1 Axes>"
            ],
            "image/png": "[encoded data removed]"
          },
          "metadata": {}
        }
      ]
    },
    {
      "cell_type": "markdown",
      "source": [
        "#4.3 드롭아웃(Dropout)\n",
        "비율로 로드수를 줄여나가는 방법"
      ],
      "metadata": {
        "id": "HXQjLqMai4sS"
      }
    },
    {
      "cell_type": "code",
      "source": [
        "regularizer1 = tf.keras.regularizers.l1(0.001)\n",
        "Droup_model = tf.keras.Sequential([\n",
        "    tf.keras.layers.Flatten(input_shape=(28,28)),\n",
        "    tf.keras.layers.Dense(64,kernel_initializer = 'normal', kernel_regularizer = regularizer1, activation = 'relu'),\n",
        "    tf.keras.layers.Dropout(0,5),\n",
        "    tf.keras.layers.Dense(32,kernel_initializer = 'normal', kernel_regularizer = regularizer1, activation = 'relu'),\n",
        "    tf.keras.layers.Dropout(0,5),\n",
        "    tf.keras.layers.Dense(10, activation = 'softmax'),\n",
        "])\n",
        "Droup_model.summary()"
      ],
      "metadata": {
        "colab": {
          "base_uri": "https://localhost:8080/"
        },
        "id": "jvmRQNUgifoI",
        "outputId": "074133d4-0ee5-43a2-d868-0007363a306e"
      },
      "execution_count": 73,
      "outputs": [
        {
          "output_type": "stream",
          "name": "stdout",
          "text": [
            "Model: \"sequential_8\"\n",
            "_________________________________________________________________\n",
            " Layer (type)                Output Shape              Param #   \n",
            "=================================================================\n",
            " flatten_13 (Flatten)        (None, 784)               0         \n",
            "                                                                 \n",
            " dense_33 (Dense)            (None, 64)                50240     \n",
            "                                                                 \n",
            " dropout_2 (Dropout)         (None, 64)                0         \n",
            "                                                                 \n",
            " dense_34 (Dense)            (None, 32)                2080      \n",
            "                                                                 \n",
            " dropout_3 (Dropout)         (None, 32)                0         \n",
            "                                                                 \n",
            " dense_35 (Dense)            (None, 10)                330       \n",
            "                                                                 \n",
            "=================================================================\n",
            "Total params: 52,650\n",
            "Trainable params: 52,650\n",
            "Non-trainable params: 0\n",
            "_________________________________________________________________\n"
          ]
        }
      ]
    },
    {
      "cell_type": "code",
      "source": [
        "Droup_model.compile(optimizer='adam',loss = 'sparse_categorical_crossentropy', metrics=['accuracy'])\n",
        "Droup_model = Droup_model.fit(x_train,y_train, validation_data = (x_test, y_test), epochs = 10)"
      ],
      "metadata": {
        "colab": {
          "base_uri": "https://localhost:8080/"
        },
        "id": "_UiRtA5bifmR",
        "outputId": "723dc2b9-9ad9-46ea-d9ef-5eb0af989937"
      },
      "execution_count": 74,
      "outputs": [
        {
          "output_type": "stream",
          "name": "stdout",
          "text": [
            "Epoch 1/10\n",
            "1875/1875 [==============================] - 9s 4ms/step - loss: 1.5817 - accuracy: 0.8583 - val_loss: 0.8703 - val_accuracy: 0.9272\n",
            "Epoch 2/10\n",
            "1875/1875 [==============================] - 9s 5ms/step - loss: 0.6726 - accuracy: 0.9361 - val_loss: 0.5167 - val_accuracy: 0.9470\n",
            "Epoch 3/10\n",
            "1875/1875 [==============================] - 9s 5ms/step - loss: 0.4954 - accuracy: 0.9444 - val_loss: 0.4348 - val_accuracy: 0.9485\n",
            "Epoch 4/10\n",
            "1875/1875 [==============================] - 10s 5ms/step - loss: 0.4434 - accuracy: 0.9460 - val_loss: 0.4116 - val_accuracy: 0.9507\n",
            "Epoch 5/10\n",
            "1875/1875 [==============================] - 8s 4ms/step - loss: 0.4176 - accuracy: 0.9492 - val_loss: 0.3701 - val_accuracy: 0.9553\n",
            "Epoch 6/10\n",
            "1875/1875 [==============================] - 11s 6ms/step - loss: 0.3999 - accuracy: 0.9508 - val_loss: 0.3768 - val_accuracy: 0.9536\n",
            "Epoch 7/10\n",
            "1875/1875 [==============================] - 16s 9ms/step - loss: 0.3876 - accuracy: 0.9519 - val_loss: 0.3839 - val_accuracy: 0.9532\n",
            "Epoch 8/10\n",
            "1875/1875 [==============================] - 11s 6ms/step - loss: 0.3927 - accuracy: 0.9525 - val_loss: 0.3561 - val_accuracy: 0.9576\n",
            "Epoch 9/10\n",
            "1875/1875 [==============================] - 14s 8ms/step - loss: 0.3789 - accuracy: 0.9529 - val_loss: 0.3633 - val_accuracy: 0.9569\n",
            "Epoch 10/10\n",
            "1875/1875 [==============================] - 11s 6ms/step - loss: 0.3767 - accuracy: 0.9517 - val_loss: 0.3553 - val_accuracy: 0.9566\n"
          ]
        }
      ]
    },
    {
      "cell_type": "code",
      "source": [
        "plt.figure(figsize = (5,3))\n",
        "plt.plot(np.arange(1,11), history.history['val_loss'], color = 'navy', label = 'None')\n",
        "plt.plot(np.arange(1,11), Droup_model.history['val_loss'], color = 'tomato', label = 'Droupout+L1')\n",
        "plt.plot(np.arange(1,11), L1_model.history['val_loss'], color = 'green', label = 'L1')\n",
        "plt.title(\"Losses\", fontsize = 20)\n",
        "plt.xlabel('epochs')\n",
        "plt.ylabel(\"Losses\")\n",
        "plt.legend()\n",
        "plt.show"
      ],
      "metadata": {
        "colab": {
          "base_uri": "https://localhost:8080/",
          "height": 359
        },
        "id": "I-2ORxIEifkM",
        "outputId": "96fccf04-2fc0-4e07-b8f4-311720cf9cf0"
      },
      "execution_count": 83,
      "outputs": [
        {
          "output_type": "execute_result",
          "data": {
            "text/plain": [
              "<function matplotlib.pyplot.show(close=None, block=None)>"
            ]
          },
          "metadata": {},
          "execution_count": 83
        },
        {
          "output_type": "display_data",
          "data": {
            "text/plain": [
              "<Figure size 500x300 with 1 Axes>"
            ],
            "image/png": "[encoded data removed]"
          },
          "metadata": {}
        }
      ]
    },
    {
      "cell_type": "code",
      "source": [],
      "metadata": {
        "id": "MF9aFU62ifiZ"
      },
      "execution_count": null,
      "outputs": []
    },
    {
      "cell_type": "markdown",
      "source": [
        "4-4배치 정규화 (BatchNormalization)\n",
        "1. 각층에서 스케일을 조정\n",
        "\n"
      ],
      "metadata": {
        "id": "GeresVCjk3jO"
      }
    },
    {
      "cell_type": "code",
      "source": [
        "batch_model = tf.keras.Sequential([\n",
        "    tf.keras.layers.Flatten(input_shape=(28,28)),\n",
        "    tf.keras.layers.Dense(64, activation = 'ReLU'),\n",
        "    tf.keras.layers.BatchNormalization(),\n",
        "    tf.keras.layers.Dense(32, activation = 'ReLU'),\n",
        "    tf.keras.layers.BatchNormalization(),\n",
        "    tf.keras.layers.Dense(10, activation = 'softmax'),\n",
        "])"
      ],
      "metadata": {
        "id": "VkvFmSKviffL"
      },
      "execution_count": 100,
      "outputs": []
    },
    {
      "cell_type": "code",
      "source": [
        "batch_model.compile(optimizer='adam',loss = 'sparse_categorical_crossentropy', metrics=['accuracy'])\n",
        "batch_model = batch_model.fit(x_train,y_train, validation_data = (x_test, y_test), epochs = 10)"
      ],
      "metadata": {
        "colab": {
          "base_uri": "https://localhost:8080/"
        },
        "id": "Qp6IHlB1qpk6",
        "outputId": "bf9e9086-43ea-42f2-ceb6-2bf910f51793"
      },
      "execution_count": 90,
      "outputs": [
        {
          "output_type": "stream",
          "name": "stdout",
          "text": [
            "Epoch 1/10\n",
            "1875/1875 [==============================] - 13s 6ms/step - loss: 0.3075 - accuracy: 0.9110 - val_loss: 0.1454 - val_accuracy: 0.9562\n",
            "Epoch 2/10\n",
            "1875/1875 [==============================] - 13s 7ms/step - loss: 0.1513 - accuracy: 0.9551 - val_loss: 0.1170 - val_accuracy: 0.9652\n",
            "Epoch 3/10\n",
            "1875/1875 [==============================] - 14s 7ms/step - loss: 0.1178 - accuracy: 0.9639 - val_loss: 0.1026 - val_accuracy: 0.9685\n",
            "Epoch 4/10\n",
            "1875/1875 [==============================] - 12s 7ms/step - loss: 0.1001 - accuracy: 0.9686 - val_loss: 0.1018 - val_accuracy: 0.9698\n",
            "Epoch 5/10\n",
            "1875/1875 [==============================] - 12s 7ms/step - loss: 0.0870 - accuracy: 0.9728 - val_loss: 0.0878 - val_accuracy: 0.9726\n",
            "Epoch 6/10\n",
            "1875/1875 [==============================] - 12s 6ms/step - loss: 0.0809 - accuracy: 0.9743 - val_loss: 0.0915 - val_accuracy: 0.9722\n",
            "Epoch 7/10\n",
            "1875/1875 [==============================] - 10s 5ms/step - loss: 0.0726 - accuracy: 0.9767 - val_loss: 0.0880 - val_accuracy: 0.9740\n",
            "Epoch 8/10\n",
            "1875/1875 [==============================] - 10s 5ms/step - loss: 0.0673 - accuracy: 0.9783 - val_loss: 0.0776 - val_accuracy: 0.9748\n",
            "Epoch 9/10\n",
            "1875/1875 [==============================] - 13s 7ms/step - loss: 0.0627 - accuracy: 0.9795 - val_loss: 0.0788 - val_accuracy: 0.9758\n",
            "Epoch 10/10\n",
            "1875/1875 [==============================] - 14s 7ms/step - loss: 0.0571 - accuracy: 0.9819 - val_loss: 0.0835 - val_accuracy: 0.9760\n"
          ]
        }
      ]
    },
    {
      "cell_type": "code",
      "source": [
        "plt.figure(figsize = (5,3))\n",
        "plt.plot(np.arange(1,11), history.history['val_loss'], color = 'navy', label = 'None')\n",
        "plt.plot(np.arange(1,11), batch_model.history['val_loss'], color = 'tomato', label = 'BatchNorm+ReLU')\n",
        "plt.title(\"Losses\", fontsize = 20)\n",
        "plt.xlabel('epochs')\n",
        "plt.ylabel(\"Losses\")\n",
        "plt.legend()\n",
        "plt.show"
      ],
      "metadata": {
        "colab": {
          "base_uri": "https://localhost:8080/",
          "height": 359
        },
        "id": "ClEZnVleifbj",
        "outputId": "6a0fb572-3ed4-403c-cabe-89bcf37f983c"
      },
      "execution_count": 87,
      "outputs": [
        {
          "output_type": "execute_result",
          "data": {
            "text/plain": [
              "<function matplotlib.pyplot.show(close=None, block=None)>"
            ]
          },
          "metadata": {},
          "execution_count": 87
        },
        {
          "output_type": "display_data",
          "data": {
            "text/plain": [
              "<Figure size 500x300 with 1 Axes>"
            ],
            "image/png": "[encoded data removed]"
          },
          "metadata": {}
        }
      ]
    },
    {
      "cell_type": "markdown",
      "source": [
        "#4-5 활성화 함수\n",
        "1.ReLu\n",
        "2.LeakyReLU"
      ],
      "metadata": {
        "id": "Edky-ZQqrTOh"
      }
    },
    {
      "cell_type": "code",
      "source": [
        "Leaky_model = tf.keras.Sequential([\n",
        "    tf.keras.layers.Flatten(input_shape=(28,28)),\n",
        "    tf.keras.layers.Dense(64),\n",
        "    tf.keras.layers.BatchNormalization(),\n",
        "    tf.keras.layers.LeakyReLU(alpha=0.2),\n",
        "    tf.keras.layers.Dense(32),\n",
        "    tf.keras.layers.BatchNormalization(),\n",
        "    tf.keras.layers.LeakyReLU(alpha=0.2),\n",
        "    tf.keras.layers.Dense(10, activation = 'softmax'),\n",
        "])"
      ],
      "metadata": {
        "id": "pRK2OlXDifZj"
      },
      "execution_count": 109,
      "outputs": []
    },
    {
      "cell_type": "code",
      "source": [
        "Leaky_model.compile(optimizer='adam',loss = 'sparse_categorical_crossentropy', metrics=['accuracy'])\n",
        "Leaky_model = Leaky_model.fit(x_train,y_train, validation_data = (x_test, y_test), epochs = 10)"
      ],
      "metadata": {
        "colab": {
          "base_uri": "https://localhost:8080/"
        },
        "id": "b53zPvwGrPMm",
        "outputId": "7fd08bb0-141f-4cb0-b0d2-1976ffe3dd6e"
      },
      "execution_count": 110,
      "outputs": [
        {
          "output_type": "stream",
          "name": "stdout",
          "text": [
            "Epoch 1/10\n",
            "1875/1875 [==============================] - 15s 7ms/step - loss: 0.3213 - accuracy: 0.9092 - val_loss: 0.1529 - val_accuracy: 0.9551\n",
            "Epoch 2/10\n",
            "1875/1875 [==============================] - 13s 7ms/step - loss: 0.1553 - accuracy: 0.9525 - val_loss: 0.1095 - val_accuracy: 0.9654\n",
            "Epoch 3/10\n",
            "1875/1875 [==============================] - 12s 6ms/step - loss: 0.1231 - accuracy: 0.9620 - val_loss: 0.0984 - val_accuracy: 0.9698\n",
            "Epoch 4/10\n",
            "1875/1875 [==============================] - 13s 7ms/step - loss: 0.1055 - accuracy: 0.9680 - val_loss: 0.0883 - val_accuracy: 0.9733\n",
            "Epoch 5/10\n",
            "1875/1875 [==============================] - 11s 6ms/step - loss: 0.0942 - accuracy: 0.9698 - val_loss: 0.0885 - val_accuracy: 0.9735\n",
            "Epoch 6/10\n",
            "1875/1875 [==============================] - 11s 6ms/step - loss: 0.0861 - accuracy: 0.9725 - val_loss: 0.0902 - val_accuracy: 0.9724\n",
            "Epoch 7/10\n",
            "1875/1875 [==============================] - 11s 6ms/step - loss: 0.0782 - accuracy: 0.9746 - val_loss: 0.0820 - val_accuracy: 0.9749\n",
            "Epoch 8/10\n",
            "1875/1875 [==============================] - 10s 6ms/step - loss: 0.0717 - accuracy: 0.9769 - val_loss: 0.0840 - val_accuracy: 0.9739\n",
            "Epoch 9/10\n",
            "1875/1875 [==============================] - 11s 6ms/step - loss: 0.0679 - accuracy: 0.9782 - val_loss: 0.0820 - val_accuracy: 0.9754\n",
            "Epoch 10/10\n",
            "1875/1875 [==============================] - 11s 6ms/step - loss: 0.0646 - accuracy: 0.9784 - val_loss: 0.0792 - val_accuracy: 0.9768\n"
          ]
        }
      ]
    },
    {
      "cell_type": "code",
      "source": [
        "plt.figure(figsize = (5,3))\n",
        "plt.plot(np.arange(1,11), history.history['val_loss'], color = 'navy', label = 'None')\n",
        "plt.plot(np.arange(1,11), batch_model.history['val_loss'], color = 'tomato', label = 'BatchNorm+ReLU')\n",
        "plt.plot(np.arange(1,11), Leaky_model.history['val_loss'], color = 'tomato', label = 'Dropout+ReLU')\n",
        "plt.title(\"Losses\", fontsize = 20)\n",
        "plt.xlabel('epochs')\n",
        "plt.ylabel(\"Losses\")\n",
        "plt.legend()\n",
        "plt.show"
      ],
      "metadata": {
        "colab": {
          "base_uri": "https://localhost:8080/",
          "height": 519
        },
        "id": "0VqYJYhbrPKz",
        "outputId": "2a405f55-a4ea-4973-a8ea-df94fe081ce3"
      },
      "execution_count": 111,
      "outputs": [
        {
          "output_type": "error",
          "ename": "TypeError",
          "evalue": "ignored",
          "traceback": [
            "\u001b[0;31m---------------------------------------------------------------------------\u001b[0m",
            "\u001b[0;31mTypeError\u001b[0m                                 Traceback (most recent call last)",
            "\u001b[0;32m<ipython-input-111-94107e3f6fe6>\u001b[0m in \u001b[0;36m<cell line: 3>\u001b[0;34m()\u001b[0m\n\u001b[1;32m      1\u001b[0m \u001b[0mplt\u001b[0m\u001b[0;34m.\u001b[0m\u001b[0mfigure\u001b[0m\u001b[0;34m(\u001b[0m\u001b[0mfigsize\u001b[0m \u001b[0;34m=\u001b[0m \u001b[0;34m(\u001b[0m\u001b[0;36m5\u001b[0m\u001b[0;34m,\u001b[0m\u001b[0;36m3\u001b[0m\u001b[0;34m)\u001b[0m\u001b[0;34m)\u001b[0m\u001b[0;34m\u001b[0m\u001b[0;34m\u001b[0m\u001b[0m\n\u001b[1;32m      2\u001b[0m \u001b[0mplt\u001b[0m\u001b[0;34m.\u001b[0m\u001b[0mplot\u001b[0m\u001b[0;34m(\u001b[0m\u001b[0mnp\u001b[0m\u001b[0;34m.\u001b[0m\u001b[0marange\u001b[0m\u001b[0;34m(\u001b[0m\u001b[0;36m1\u001b[0m\u001b[0;34m,\u001b[0m\u001b[0;36m11\u001b[0m\u001b[0;34m)\u001b[0m\u001b[0;34m,\u001b[0m \u001b[0mhistory\u001b[0m\u001b[0;34m.\u001b[0m\u001b[0mhistory\u001b[0m\u001b[0;34m[\u001b[0m\u001b[0;34m'val_loss'\u001b[0m\u001b[0;34m]\u001b[0m\u001b[0;34m,\u001b[0m \u001b[0mcolor\u001b[0m \u001b[0;34m=\u001b[0m \u001b[0;34m'navy'\u001b[0m\u001b[0;34m,\u001b[0m \u001b[0mlabel\u001b[0m \u001b[0;34m=\u001b[0m \u001b[0;34m'None'\u001b[0m\u001b[0;34m)\u001b[0m\u001b[0;34m\u001b[0m\u001b[0;34m\u001b[0m\u001b[0m\n\u001b[0;32m----> 3\u001b[0;31m \u001b[0mplt\u001b[0m\u001b[0;34m.\u001b[0m\u001b[0mplot\u001b[0m\u001b[0;34m(\u001b[0m\u001b[0mnp\u001b[0m\u001b[0;34m.\u001b[0m\u001b[0marange\u001b[0m\u001b[0;34m(\u001b[0m\u001b[0;36m1\u001b[0m\u001b[0;34m,\u001b[0m\u001b[0;36m11\u001b[0m\u001b[0;34m)\u001b[0m\u001b[0;34m,\u001b[0m \u001b[0mbatch_model\u001b[0m\u001b[0;34m.\u001b[0m\u001b[0mhistory\u001b[0m\u001b[0;34m[\u001b[0m\u001b[0;34m'val_loss'\u001b[0m\u001b[0;34m]\u001b[0m\u001b[0;34m,\u001b[0m \u001b[0mcolor\u001b[0m \u001b[0;34m=\u001b[0m \u001b[0;34m'tomato'\u001b[0m\u001b[0;34m,\u001b[0m \u001b[0mlabel\u001b[0m \u001b[0;34m=\u001b[0m \u001b[0;34m'BatchNorm+ReLU'\u001b[0m\u001b[0;34m)\u001b[0m\u001b[0;34m\u001b[0m\u001b[0;34m\u001b[0m\u001b[0m\n\u001b[0m\u001b[1;32m      4\u001b[0m \u001b[0mplt\u001b[0m\u001b[0;34m.\u001b[0m\u001b[0mplot\u001b[0m\u001b[0;34m(\u001b[0m\u001b[0mnp\u001b[0m\u001b[0;34m.\u001b[0m\u001b[0marange\u001b[0m\u001b[0;34m(\u001b[0m\u001b[0;36m1\u001b[0m\u001b[0;34m,\u001b[0m\u001b[0;36m11\u001b[0m\u001b[0;34m)\u001b[0m\u001b[0;34m,\u001b[0m \u001b[0mLeaky_model\u001b[0m\u001b[0;34m.\u001b[0m\u001b[0mhistory\u001b[0m\u001b[0;34m[\u001b[0m\u001b[0;34m'val_loss'\u001b[0m\u001b[0;34m]\u001b[0m\u001b[0;34m,\u001b[0m \u001b[0mcolor\u001b[0m \u001b[0;34m=\u001b[0m \u001b[0;34m'tomato'\u001b[0m\u001b[0;34m,\u001b[0m \u001b[0mlabel\u001b[0m \u001b[0;34m=\u001b[0m \u001b[0;34m'Dropout+ReLU'\u001b[0m\u001b[0;34m)\u001b[0m\u001b[0;34m\u001b[0m\u001b[0;34m\u001b[0m\u001b[0m\n\u001b[1;32m      5\u001b[0m \u001b[0mplt\u001b[0m\u001b[0;34m.\u001b[0m\u001b[0mtitle\u001b[0m\u001b[0;34m(\u001b[0m\u001b[0;34m\"Losses\"\u001b[0m\u001b[0;34m,\u001b[0m \u001b[0mfontsize\u001b[0m \u001b[0;34m=\u001b[0m \u001b[0;36m20\u001b[0m\u001b[0;34m)\u001b[0m\u001b[0;34m\u001b[0m\u001b[0;34m\u001b[0m\u001b[0m\n",
            "\u001b[0;31mTypeError\u001b[0m: 'NoneType' object is not subscriptable"
          ]
        },
        {
          "output_type": "display_data",
          "data": {
            "text/plain": [
              "<Figure size 500x300 with 1 Axes>"
            ],
            "image/png": "[encoded data removed]"
          },
          "metadata": {}
        }
      ]
    },
    {
      "cell_type": "code",
      "source": [],
      "metadata": {
        "id": "ps4RnwtWrPG0"
      },
      "execution_count": null,
      "outputs": []
    },
    {
      "cell_type": "code",
      "source": [],
      "metadata": {
        "id": "8u6ZPSNbrPD7"
      },
      "execution_count": null,
      "outputs": []
    }
  ]
}