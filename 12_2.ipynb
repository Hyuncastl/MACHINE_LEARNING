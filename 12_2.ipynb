{
  "nbformat": 4,
  "nbformat_minor": 0,
  "metadata": {
    "colab": {
      "provenance": [],
      "authorship_tag": "ABX9TyPwh/CdlhxA9BnUSZTFdWFx",
      "include_colab_link": true
    },
    "kernelspec": {
      "name": "python3",
      "display_name": "Python 3"
    },
    "language_info": {
      "name": "python"
    }
  },
  "cells": [
    {
      "cell_type": "markdown",
      "metadata": {
        "id": "view-in-github",
        "colab_type": "text"
      },
      "source": [
        "<a href=\"https://colab.research.google.com/github/Hyuncastl/MACHINE_LEARNING/blob/main/12_2.ipynb\" target=\"_parent\"><img src=\"https://colab.research.google.com/assets/colab-badge.svg\" alt=\"Open In Colab\"/></a>"
      ]
    },
    {
      "cell_type": "code",
      "source": [
        "import tensorflow as tf\n",
        "import urllib\n",
        "import zipfile\n",
        "\n",
        "url = \"https://storage.googleapis.com/mledu-datasets/cats_and_dogs_filtered.zip\"\n",
        "\n",
        "urllib.request.urlretrieve(url,'cats_and_dogs_filtered.zip')\n",
        "\n",
        "local_zip = '/content/cats_and_dogs_filtered.zip'\n",
        "zip_ref = zipfile.ZipFile(local_zip, 'r')\n",
        "zip_ref.extractall('/content')\n",
        "zip_ref.close()\n",
        "\n",
        "\n",
        "train_dir = '/content/cats_and_dogs_filtered/train'\n",
        "valid_dir = '/content/cats_and_dogs_filtered/validation'\n",
        "\n",
        "train_datagen = ImageDataGenerator(rescale=1/255.,\n",
        "                                   horizontal_flip=True,\n",
        "                                   rotation_range=35,\n",
        "                                   zoom_range=0.2)\n",
        "train_gen = train_datagen.flow_from_directory(train_dir,\n",
        "                                              batch_size=32,\n",
        "                                              target_size=(224, 224),\n",
        "                                              classes=['cats', 'dogs'],\n",
        "                                              class_mode='binary')\n",
        "\n",
        "valid_datagen = ImageDataGenerator(rescale=1/255.,\n",
        "                                   horizontal_flip=True,\n",
        "                                   rotation_range=35,\n",
        "                                   zoom_range=0.2)\n",
        "valid_gen = valid_datagen.flow_from_directory(valid_dir,\n",
        "                                              batch_size=32,\n",
        "                                              target_size=(224, 224),\n",
        "                                              classes=['cats', 'dogs'],\n",
        "                                              class_mode='binary')\n",
        "\n",
        "def solution_model(): \n",
        "  model = tf.keras.Sequential([\n",
        "        tf.keras.layers.BatchNormalization(),\n",
        "        tf.keras.layers.Conv2D(32, (3, 3), padding='same', activation='relu'),\n",
        "        tf.keras.layers.MaxPooling2D(2, 2),\n",
        "\n",
        "        tf.keras.layers.BatchNormalization(),\n",
        "        tf.keras.layers.Conv2D(32, (3, 3), padding='same', activation='relu'),\n",
        "        tf.keras.layers.MaxPooling2D(2, 2),\n",
        "\n",
        "        tf.keras.layers.BatchNormalization(),\n",
        "        tf.keras.layers.Conv2D(32, (3, 3), padding='same', activation='relu'),\n",
        "        tf.keras.layers.MaxPooling2D(2, 2),\n",
        "\n",
        "        tf.keras.layers.Flatten(),\n",
        "        tf.keras.layers.Dense(256, activation='relu'),\n",
        "        tf.keras.layers.Dropout(0.3),\n",
        "        tf.keras.layers.Dense(1, activation='sigmoid')\n",
        "    ])\n",
        "\n",
        "  model.compile(optimizer=tf.keras.optimizers.Adam(learning_rate=0.01),\n",
        "                  loss=tf.keras.losses.BinaryCrossentropy(from_logits=True),\n",
        "                  metrics=['accuracy']\n",
        "                  )\n",
        "\n",
        "  checkpoint_path = 'temp_checkpoint.ckpt'\n",
        "  checkpoint = ModelCheckpoint(filepath=checkpoint_path,\n",
        "                                 save_weights_only=True,\n",
        "                                 save_best_only=True,\n",
        "                                 monitor='val_loss',\n",
        "                                 verbose=1\n",
        "                                 )\n",
        "  model.fit(train_gen, validation_data=valid_gen,\n",
        "              epochs=10, callbacks=[checkpoint])\n",
        "\n",
        "  model.load_weights(checkpoint_path)\n",
        "\n",
        "   \n",
        "  return model\n",
        "\n",
        "\n",
        "# Note that you'll need to save your model as a .h5 like this\n",
        "# This .h5 will be uploaded to the testing infrastructure\n",
        "# and a score will be returned to you\n",
        "if __name__ == '__main__':\n",
        "    model = solution_model()\n",
        "    model.save(\"TF3-cats-vs-dogs.h5\")\n"
      ],
      "metadata": {
        "colab": {
          "base_uri": "https://localhost:8080/"
        },
        "id": "ys8T8z_n_69u",
        "outputId": "2b186540-efec-4743-ef0b-eb0b084de7a7"
      },
      "execution_count": null,
      "outputs": [
        {
          "output_type": "stream",
          "name": "stdout",
          "text": [
            "Found 2000 images belonging to 2 classes.\n",
            "Found 1000 images belonging to 2 classes.\n",
            "Epoch 1/10\n"
          ]
        },
        {
          "output_type": "stream",
          "name": "stderr",
          "text": [
            "/usr/local/lib/python3.10/dist-packages/keras/backend.py:5703: UserWarning: \"`binary_crossentropy` received `from_logits=True`, but the `output` argument was produced by a Sigmoid activation and thus does not represent logits. Was this intended?\n",
            "  output, from_logits = _get_logits(\n"
          ]
        },
        {
          "output_type": "stream",
          "name": "stdout",
          "text": [
            "41/63 [==================>...........] - ETA: 1:21 - loss: 31.6592 - accuracy: 0.5378"
          ]
        }
      ]
    }
  ]
}